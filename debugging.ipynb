{
 "cells": [
  {
   "cell_type": "code",
   "execution_count": 1,
   "id": "287d89e3-8a75-49d8-bc12-589fff91ca21",
   "metadata": {},
   "outputs": [],
   "source": [
    "import sarabande as s"
   ]
  },
  {
   "cell_type": "code",
   "execution_count": 2,
   "id": "782ff4b4-2dcd-46b8-9223-0bb388e542aa",
   "metadata": {},
   "outputs": [
    {
     "name": "stdout",
     "output_type": "stream",
     "text": [
      "a simple function to make sure this module works.\n"
     ]
    }
   ],
   "source": [
    "s.utils.test_print()"
   ]
  },
  {
   "cell_type": "code",
   "execution_count": 3,
   "id": "3b76f9cc-1911-4842-a941-4a70dd972ffe",
   "metadata": {},
   "outputs": [
    {
     "ename": "ValueError",
     "evalue": "Please include a density_field_data argument. Should be a density cube in the form of a numpy array",
     "output_type": "error",
     "traceback": [
      "\u001b[0;31m---------------------------------------------------------------------------\u001b[0m",
      "\u001b[0;31mValueError\u001b[0m                                Traceback (most recent call last)",
      "\u001b[0;32m/var/folders/qr/x3dkydmn29zcyvsycp13g3g00000gn/T/ipykernel_67195/2628402762.py\u001b[0m in \u001b[0;36m<module>\u001b[0;34m\u001b[0m\n\u001b[0;32m----> 1\u001b[0;31m \u001b[0ms\u001b[0m\u001b[0;34m.\u001b[0m\u001b[0mmeasure\u001b[0m\u001b[0;34m(\u001b[0m\u001b[0;34m)\u001b[0m\u001b[0;34m\u001b[0m\u001b[0;34m\u001b[0m\u001b[0m\n\u001b[0m",
      "\u001b[0;32m~/Desktop/package_testing/sarabande/sarabande/main.py\u001b[0m in \u001b[0;36m__init__\u001b[0;34m(self, density_field_data, save_dir, save_name, ell_max, nbins, bin_spacing, ld_one_d, bin_min, bin_max, physical_boxsize, rmin, rmax)\u001b[0m\n\u001b[1;32m     40\u001b[0m             \u001b[0mself\u001b[0m\u001b[0;34m.\u001b[0m\u001b[0mdensity_field_data\u001b[0m \u001b[0;34m=\u001b[0m \u001b[0mdensity_field_data\u001b[0m\u001b[0;34m\u001b[0m\u001b[0;34m\u001b[0m\u001b[0m\n\u001b[1;32m     41\u001b[0m         \u001b[0;32melse\u001b[0m\u001b[0;34m:\u001b[0m\u001b[0;34m\u001b[0m\u001b[0;34m\u001b[0m\u001b[0m\n\u001b[0;32m---> 42\u001b[0;31m             \u001b[0;32mraise\u001b[0m \u001b[0mValueError\u001b[0m\u001b[0;34m(\u001b[0m\u001b[0;34m\"Please include a density_field_data argument. Should be a density cube in the form of a numpy array\"\u001b[0m\u001b[0;34m)\u001b[0m\u001b[0;34m\u001b[0m\u001b[0;34m\u001b[0m\u001b[0m\n\u001b[0m\u001b[1;32m     43\u001b[0m \u001b[0;34m\u001b[0m\u001b[0m\n\u001b[1;32m     44\u001b[0m         \u001b[0;32mif\u001b[0m \u001b[0msave_name\u001b[0m \u001b[0;32mis\u001b[0m \u001b[0;32mnot\u001b[0m \u001b[0;32mNone\u001b[0m\u001b[0;34m:\u001b[0m\u001b[0;34m\u001b[0m\u001b[0;34m\u001b[0m\u001b[0m\n",
      "\u001b[0;31mValueError\u001b[0m: Please include a density_field_data argument. Should be a density cube in the form of a numpy array"
     ]
    }
   ],
   "source": [
    "s.measure()"
   ]
  },
  {
   "cell_type": "code",
   "execution_count": 9,
   "id": "29b1bc15-6ef0-471d-8b97-4f34315db594",
   "metadata": {},
   "outputs": [],
   "source": [
    "class testobj:\n",
    "    def __init__(self, x,y):\n",
    "        self.x = x\n",
    "        self.y = y\n",
    "        \n",
    "    \n",
    "def add_z(test_obj,z):\n",
    "    test_obj.z = z\n",
    "    "
   ]
  },
  {
   "cell_type": "code",
   "execution_count": 10,
   "id": "d83201f5-028a-465e-8ad6-839481c99164",
   "metadata": {},
   "outputs": [
    {
     "ename": "AttributeError",
     "evalue": "'testobj' object has no attribute 'z'",
     "output_type": "error",
     "traceback": [
      "\u001b[0;31m---------------------------------------------------------------------------\u001b[0m",
      "\u001b[0;31mAttributeError\u001b[0m                            Traceback (most recent call last)",
      "\u001b[0;32m/var/folders/qr/x3dkydmn29zcyvsycp13g3g00000gn/T/ipykernel_67195/1639106028.py\u001b[0m in \u001b[0;36m<module>\u001b[0;34m\u001b[0m\n\u001b[1;32m      1\u001b[0m \u001b[0mbabe\u001b[0m \u001b[0;34m=\u001b[0m \u001b[0mtestobj\u001b[0m\u001b[0;34m(\u001b[0m\u001b[0;36m1\u001b[0m\u001b[0;34m,\u001b[0m\u001b[0;36m2\u001b[0m\u001b[0;34m)\u001b[0m\u001b[0;34m\u001b[0m\u001b[0;34m\u001b[0m\u001b[0m\n\u001b[1;32m      2\u001b[0m \u001b[0;34m\u001b[0m\u001b[0m\n\u001b[0;32m----> 3\u001b[0;31m \u001b[0mprint\u001b[0m\u001b[0;34m(\u001b[0m\u001b[0mbabe\u001b[0m\u001b[0;34m.\u001b[0m\u001b[0mx\u001b[0m\u001b[0;34m,\u001b[0m \u001b[0mbabe\u001b[0m\u001b[0;34m.\u001b[0m\u001b[0my\u001b[0m\u001b[0;34m,\u001b[0m \u001b[0mbabe\u001b[0m\u001b[0;34m.\u001b[0m\u001b[0mz\u001b[0m\u001b[0;34m)\u001b[0m\u001b[0;34m\u001b[0m\u001b[0;34m\u001b[0m\u001b[0m\n\u001b[0m",
      "\u001b[0;31mAttributeError\u001b[0m: 'testobj' object has no attribute 'z'"
     ]
    }
   ],
   "source": [
    "babe = testobj(1,2)\n",
    "\n",
    "print(babe.x, babe.y, babe.z)"
   ]
  },
  {
   "cell_type": "code",
   "execution_count": 11,
   "id": "4b1edd32-b6ad-4387-8bc3-b1cad432b676",
   "metadata": {},
   "outputs": [
    {
     "data": {
      "text/plain": [
       "4"
      ]
     },
     "execution_count": 11,
     "metadata": {},
     "output_type": "execute_result"
    }
   ],
   "source": [
    "add_z(babe, 4)\n",
    "\n",
    "babe.z"
   ]
  },
  {
   "cell_type": "code",
   "execution_count": null,
   "id": "db4a21df-4baf-4f16-8b14-907afba7730a",
   "metadata": {},
   "outputs": [],
   "source": []
  }
 ],
 "metadata": {
  "kernelspec": {
   "display_name": "Python 3 (ipykernel)",
   "language": "python",
   "name": "python3"
  },
  "language_info": {
   "codemirror_mode": {
    "name": "ipython",
    "version": 3
   },
   "file_extension": ".py",
   "mimetype": "text/x-python",
   "name": "python",
   "nbconvert_exporter": "python",
   "pygments_lexer": "ipython3",
   "version": "3.7.3"
  }
 },
 "nbformat": 4,
 "nbformat_minor": 5
}
