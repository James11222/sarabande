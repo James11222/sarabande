{
 "cells": [
  {
   "cell_type": "code",
   "execution_count": 1,
   "id": "287d89e3-8a75-49d8-bc12-589fff91ca21",
   "metadata": {},
   "outputs": [],
   "source": [
    "import sarabande as s"
   ]
  },
  {
   "cell_type": "code",
   "execution_count": 2,
   "id": "782ff4b4-2dcd-46b8-9223-0bb388e542aa",
   "metadata": {},
   "outputs": [
    {
     "name": "stdout",
     "output_type": "stream",
     "text": [
      "a simple function to make sure this module works.\n"
     ]
    }
   ],
   "source": [
    "s.utils.test_print()"
   ]
  },
  {
   "cell_type": "code",
   "execution_count": 4,
   "id": "3b76f9cc-1911-4842-a941-4a70dd972ffe",
   "metadata": {},
   "outputs": [
    {
     "ename": "ValueError",
     "evalue": "Please include a density_field_data argument. Should be a density cube in the form of a numpy array",
     "output_type": "error",
     "traceback": [
      "\u001b[0;31m---------------------------------------------------------------------------\u001b[0m",
      "\u001b[0;31mValueError\u001b[0m                                Traceback (most recent call last)",
      "\u001b[0;32m/var/folders/qr/x3dkydmn29zcyvsycp13g3g00000gn/T/ipykernel_68336/1399109767.py\u001b[0m in \u001b[0;36m<module>\u001b[0;34m\u001b[0m\n\u001b[0;32m----> 1\u001b[0;31m \u001b[0ms\u001b[0m\u001b[0;34m.\u001b[0m\u001b[0mmeasure\u001b[0m\u001b[0;34m(\u001b[0m\u001b[0mnPCF\u001b[0m\u001b[0;34m=\u001b[0m\u001b[0;36m4\u001b[0m\u001b[0;34m)\u001b[0m\u001b[0;34m\u001b[0m\u001b[0;34m\u001b[0m\u001b[0m\n\u001b[0m",
      "\u001b[0;32m~/Desktop/package_testing/sarabande/sarabande/main.py\u001b[0m in \u001b[0;36m__init__\u001b[0;34m(self, nPCF, projected, density_field_data, save_dir, save_name, ell_max, nbins, bin_spacing, ld_one_d, bin_min, bin_max, physical_boxsize, rmin, rmax)\u001b[0m\n\u001b[1;32m     53\u001b[0m \u001b[0;34m\u001b[0m\u001b[0m\n\u001b[1;32m     54\u001b[0m         \u001b[0;32melse\u001b[0m\u001b[0;34m:\u001b[0m\u001b[0;34m\u001b[0m\u001b[0;34m\u001b[0m\u001b[0m\n\u001b[0;32m---> 55\u001b[0;31m             \u001b[0;32mraise\u001b[0m \u001b[0mValueError\u001b[0m\u001b[0;34m(\u001b[0m\u001b[0;34m\"Please include a density_field_data argument. Should be a density cube in the form of a numpy array\"\u001b[0m\u001b[0;34m)\u001b[0m\u001b[0;34m\u001b[0m\u001b[0;34m\u001b[0m\u001b[0m\n\u001b[0m\u001b[1;32m     56\u001b[0m \u001b[0;34m\u001b[0m\u001b[0m\n\u001b[1;32m     57\u001b[0m         \u001b[0;32mif\u001b[0m \u001b[0msave_name\u001b[0m \u001b[0;32mis\u001b[0m \u001b[0;32mnot\u001b[0m \u001b[0;32mNone\u001b[0m\u001b[0;34m:\u001b[0m\u001b[0;34m\u001b[0m\u001b[0;34m\u001b[0m\u001b[0m\n",
      "\u001b[0;31mValueError\u001b[0m: Please include a density_field_data argument. Should be a density cube in the form of a numpy array"
     ]
    }
   ],
   "source": [
    "s.measure(nPCF=4)"
   ]
  },
  {
   "cell_type": "markdown",
   "id": "f6eeb1b4-26da-451b-8e68-fbaed34b2672",
   "metadata": {},
   "source": []
  },
  {
   "cell_type": "code",
   "execution_count": 5,
   "id": "d83201f5-028a-465e-8ad6-839481c99164",
   "metadata": {},
   "outputs": [
    {
     "name": "stdout",
     "output_type": "stream",
     "text": [
      "-------------------------------\n",
      "-    Welcome to Sarabande!    -\n",
      "-------------------------------\n",
      "Version: 0.0.1-alpha\n",
      "Authors: J. Sunseri\n",
      "-------------------------------\n",
      "Download the latest version from: https://pypi.org/project/sarabande\n",
      "Report issues to: https://github.com/James11222/sarabande\n",
      "Read the documentations at: https://PIPS.readthedocs.io\n",
      "-------------------------------\n",
      "\n"
     ]
    }
   ],
   "source": [
    "s.about()"
   ]
  },
  {
   "cell_type": "code",
   "execution_count": null,
   "id": "4b1edd32-b6ad-4387-8bc3-b1cad432b676",
   "metadata": {},
   "outputs": [],
   "source": []
  },
  {
   "cell_type": "code",
   "execution_count": null,
   "id": "db4a21df-4baf-4f16-8b14-907afba7730a",
   "metadata": {},
   "outputs": [],
   "source": []
  }
 ],
 "metadata": {
  "kernelspec": {
   "display_name": "Python 3 (ipykernel)",
   "language": "python",
   "name": "python3"
  },
  "language_info": {
   "codemirror_mode": {
    "name": "ipython",
    "version": 3
   },
   "file_extension": ".py",
   "mimetype": "text/x-python",
   "name": "python",
   "nbconvert_exporter": "python",
   "pygments_lexer": "ipython3",
   "version": "3.7.3"
  }
 },
 "nbformat": 4,
 "nbformat_minor": 5
}
