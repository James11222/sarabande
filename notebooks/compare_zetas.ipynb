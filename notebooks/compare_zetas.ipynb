{
 "cells": [
  {
   "cell_type": "code",
   "execution_count": 1,
   "id": "59fee83a-4fab-41f8-a8d3-2fe0cfd25d93",
   "metadata": {},
   "outputs": [
    {
     "name": "stdout",
     "output_type": "stream",
     "text": [
      "-------------------------------\n",
      "-    Welcome to Sarabande!    -\n",
      "-------------------------------\n",
      "Version: 0.0.1-alpha\n",
      "Authors: J. Sunseri\n",
      "-------------------------------\n",
      "Download the latest version from: pending\n",
      "Report issues to: https://github.com/James11222/sarabande\n",
      "Read the documentations at: pending\n",
      "-------------------------------\n",
      "\n"
     ]
    }
   ],
   "source": [
    "#Preamble\n",
    "import sarabande\n",
    "import numpy as np\n",
    "import matplotlib.pyplot as plt\n",
    "import mpl_toolkits.axes_grid1 as axgrid\n",
    "from mpl_toolkits.axes_grid1 import make_axes_locatable\n",
    "import astropy.io.fits as pyf\n",
    "import os\n",
    "\n",
    "plt.style.use(\"light_mode\") #custom matplotlib style sheet\n",
    "\n",
    "sarabande.about()"
   ]
  },
  {
   "cell_type": "code",
   "execution_count": 2,
   "id": "afc9ad48-8b27-4783-97d5-143335409103",
   "metadata": {},
   "outputs": [],
   "source": [
    "hdulist = pyf.open('data/dens_t800.fits.gz')\n",
    "data = hdulist[0].data.astype(np.float64)\n",
    "data = data[:128,:128,:128] # for sake of fast computation\n",
    "data -= np.mean(data)"
   ]
  },
  {
   "cell_type": "code",
   "execution_count": 3,
   "id": "3bc71472-32d3-4850-8ebf-f8530b3cfd3d",
   "metadata": {},
   "outputs": [
    {
     "name": "stdout",
     "output_type": "stream",
     "text": [
      "Preparing the data:\n",
      "Creating XYZ Grids for radial bin and ylm creation ... \n",
      "\n",
      "Creating radial bins ... \n",
      "\n",
      "taking the fourier transform of data ... \n",
      "\n",
      "calculating YLM Coefficients ... \n",
      "\n",
      "binning spherical harmonics ... \n",
      "\n",
      "ell, m =  0 0\n",
      "bin i =  0\n",
      "bin i =  1\n",
      "bin i =  2\n",
      "bin i =  3\n",
      "bin i =  4\n",
      "ell, m =  1 0\n",
      "bin i =  0\n",
      "bin i =  1\n",
      "bin i =  2\n",
      "bin i =  3\n",
      "bin i =  4\n",
      "ell, m =  1 1\n",
      "bin i =  0\n",
      "bin i =  1\n",
      "bin i =  2\n",
      "bin i =  3\n",
      "bin i =  4\n",
      "ell, m =  2 0\n",
      "bin i =  0\n",
      "bin i =  1\n",
      "bin i =  2\n",
      "bin i =  3\n",
      "bin i =  4\n",
      "ell, m =  2 1\n",
      "bin i =  0\n",
      "bin i =  1\n",
      "bin i =  2\n",
      "bin i =  3\n",
      "bin i =  4\n",
      "ell, m =  2 2\n",
      "bin i =  0\n",
      "bin i =  1\n",
      "bin i =  2\n",
      "bin i =  3\n",
      "bin i =  4\n",
      "calculating a_lm coefficients ... \n",
      "\n",
      "l, m, bin = 0 0 0\n",
      "l, m, bin = 0 0 1\n",
      "l, m, bin = 0 0 2\n",
      "l, m, bin = 0 0 3\n",
      "l, m, bin = 0 0 4\n",
      "l, m, bin = 1 0 0\n",
      "l, m, bin = 1 0 1\n",
      "l, m, bin = 1 0 2\n",
      "l, m, bin = 1 0 3\n",
      "l, m, bin = 1 0 4\n",
      "l, m, bin = 1 1 0\n",
      "l, m, bin = 1 1 1\n",
      "l, m, bin = 1 1 2\n",
      "l, m, bin = 1 1 3\n",
      "l, m, bin = 1 1 4\n",
      "l, m, bin = 2 0 0\n",
      "l, m, bin = 2 0 1\n",
      "l, m, bin = 2 0 2\n",
      "l, m, bin = 2 0 3\n",
      "l, m, bin = 2 0 4\n",
      "l, m, bin = 2 1 0\n",
      "l, m, bin = 2 1 1\n",
      "l, m, bin = 2 1 2\n",
      "l, m, bin = 2 1 3\n",
      "l, m, bin = 2 1 4\n",
      "l, m, bin = 2 2 0\n",
      "l, m, bin = 2 2 1\n",
      "l, m, bin = 2 2 2\n",
      "l, m, bin = 2 2 3\n",
      "l, m, bin = 2 2 4\n",
      "Executing 4PCF Calculation ...\n",
      "Finished Calculating 4PCF in 57.3172 seconds\n"
     ]
    }
   ],
   "source": [
    "#string to directory to save data into\n",
    "save_dir = os.getcwd() + '/output/'\n",
    "\n",
    "#create measure_obj\n",
    "_4PCF = sarabande.measure(nPCF=4, projected=False, density_field_data = data, save_dir=save_dir, save_name='example', nbins=5, ell_max=2)\n",
    "\n",
    "sarabande.calc_zeta_mapped(_4PCF)"
   ]
  },
  {
   "cell_type": "code",
   "execution_count": 4,
   "id": "9ff316ab-4b45-4090-9ae2-3089bb32f3f9",
   "metadata": {},
   "outputs": [],
   "source": [
    "np.save(\"original_zeta.npy\", _4PCF.zeta)"
   ]
  },
  {
   "cell_type": "code",
   "execution_count": 5,
   "id": "b9368223-8c8e-46a5-8de0-da1649fa326d",
   "metadata": {},
   "outputs": [],
   "source": [
    "mapped_zeta = np.load(\"mapped_zeta.npy\")\n",
    "original_zeta = np.load(\"original_zeta.npy\")"
   ]
  },
  {
   "cell_type": "code",
   "execution_count": 9,
   "id": "8cd2b6b5-37f2-4514-8f93-6ececb03c8f3",
   "metadata": {},
   "outputs": [
    {
     "data": {
      "text/plain": [
       "(array([], dtype=int64),\n",
       " array([], dtype=int64),\n",
       " array([], dtype=int64),\n",
       " array([], dtype=int64),\n",
       " array([], dtype=int64),\n",
       " array([], dtype=int64))"
      ]
     },
     "execution_count": 9,
     "metadata": {},
     "output_type": "execute_result"
    }
   ],
   "source": [
    "np.where(mapped_zeta != original_zeta)"
   ]
  },
  {
   "cell_type": "code",
   "execution_count": null,
   "id": "6a33b879-671f-4291-a0d7-add14b4c52a3",
   "metadata": {},
   "outputs": [],
   "source": []
  }
 ],
 "metadata": {
  "kernelspec": {
   "display_name": "Python 3 (ipykernel)",
   "language": "python",
   "name": "python3"
  },
  "language_info": {
   "codemirror_mode": {
    "name": "ipython",
    "version": 3
   },
   "file_extension": ".py",
   "mimetype": "text/x-python",
   "name": "python",
   "nbconvert_exporter": "python",
   "pygments_lexer": "ipython3",
   "version": "3.7.3"
  }
 },
 "nbformat": 4,
 "nbformat_minor": 5
}
