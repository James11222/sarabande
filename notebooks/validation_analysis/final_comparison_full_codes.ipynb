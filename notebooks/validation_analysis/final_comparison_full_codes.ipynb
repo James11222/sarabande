{
 "cells": [
  {
   "cell_type": "code",
   "execution_count": 1,
   "id": "c3371fbd-c62e-4420-987c-e8a1d7a0db44",
   "metadata": {},
   "outputs": [],
   "source": [
    "import numpy as np\n",
    "import matplotlib.pyplot as plt\n",
    "from mpl_toolkits.axes_grid1 import make_axes_locatable\n",
    "import time\n",
    "from calc_full_NPCF_iso_direct import calc_NPCF\n",
    "import sarabande\n",
    "import os\n",
    "\n",
    "plt.style.use(\"light_mode\")"
   ]
  },
  {
   "cell_type": "markdown",
   "id": "3ad93bb0-0e12-4e65-a0e3-ab989b246af7",
   "metadata": {
    "jp-MarkdownHeadingCollapsed": true,
    "tags": []
   },
   "source": [
    "# Generate Data"
   ]
  },
  {
   "cell_type": "code",
   "execution_count": 2,
   "id": "4b929672-853a-4436-9c08-6b40632ef562",
   "metadata": {},
   "outputs": [
    {
     "name": "stdout",
     "output_type": "stream",
     "text": [
      "There should be 104 galaxies\n"
     ]
    }
   ],
   "source": [
    "nx = 128\n",
    "data = np.zeros((nx,nx,nx))\n",
    "np.random.seed(7)\n",
    "\n",
    "xs, ys, zs, ws = [],[],[],[]\n",
    "for x in range(nx):\n",
    "    for y in range(nx):\n",
    "        for z in range(nx):\n",
    "            if np.random.randint(low=1, high=20000) == 300:\n",
    "                data[x,y,z] = 1\n",
    "                xs.append(x)\n",
    "                ys.append(y)\n",
    "                zs.append(z)\n",
    "                ws.append(1)\n",
    "                \n",
    "\n",
    "print(f\"There should be {len(np.where(data == 1)[0])} galaxies\")\n",
    "data_txt = np.array([xs, ys, zs, ws]).T   "
   ]
  },
  {
   "cell_type": "code",
   "execution_count": 3,
   "id": "30178ca0-b6a9-4d6a-9460-7bd7bd38101a",
   "metadata": {},
   "outputs": [],
   "source": [
    "#save data\n",
    "np.savetxt(\"direct_input_data/simple_data.txt\", data_txt)"
   ]
  },
  {
   "cell_type": "markdown",
   "id": "f42028f8-cb2f-4242-ba83-31bdeb7444b3",
   "metadata": {
    "jp-MarkdownHeadingCollapsed": true,
    "tags": []
   },
   "source": [
    "# 3PCF"
   ]
  },
  {
   "cell_type": "markdown",
   "id": "ede01fee-5a05-49c5-b43a-4404668c522a",
   "metadata": {
    "jp-MarkdownHeadingCollapsed": true,
    "tags": []
   },
   "source": [
    "## Direct Counting"
   ]
  },
  {
   "cell_type": "code",
   "execution_count": 20,
   "id": "07c91942-0ab0-468e-81e2-8f42e989a0dd",
   "metadata": {},
   "outputs": [
    {
     "name": "stdout",
     "output_type": "stream",
     "text": [
      "no shift executed because in genuine box\n",
      ">> save file to final_full_comparison_outputs/simple_coeff_3pcf_nbins10_lbox128_rmax64.0.pkl\n",
      "number of galaxies: 104\n",
      "elapsed time: 13.329 s\n"
     ]
    }
   ],
   "source": [
    "start_time = time.time()\n",
    "\n",
    "npcf = 3\n",
    "nbins = 10\n",
    "lbox = nx\n",
    "rmax = nx/2\n",
    "rmin=1e-14\n",
    "verbose=False\n",
    "\n",
    "zetas = calc_NPCF(npcf, data_txt, nbins, lbox, rmax, lls=None, verbose=verbose)\n",
    "zetas.init_coeff()\n",
    "zetas.run()\n",
    "sdir = \"direct_results/\"\n",
    "sname1 = sdir+f\"simple_coeff_{npcf}pcf_nbins{nbins}_lbox{lbox}_rmax{rmax}\"\n",
    "zetas.save(sname1)\n",
    " \n",
    "elapsed_time = time.time() - start_time\n",
    "print(f\"number of galaxies: {data_txt.shape[0]:1d}\")\n",
    "print(f\"elapsed time: {elapsed_time:.3f} s\")"
   ]
  },
  {
   "cell_type": "code",
   "execution_count": 21,
   "id": "884d0d8f-cb64-4610-ad22-2b353e85263e",
   "metadata": {},
   "outputs": [],
   "source": [
    "import pickle\n",
    "zeta_direct = pickle.load(open(sdir+f\"simple_coeff_{npcf}pcf_nbins{nbins}_lbox{lbox}_rmax{rmax}.pkl\", \"rb\"))\n",
    "\n",
    "n_r = nbins\n",
    "r_arr = np.linspace(rmin,rmax,n_r+1)\n",
    "r_lo = r_arr[:-1]\n",
    "r_hi = r_arr[1:]\n",
    "r_av = 0.5*(r_lo+r_hi)\n",
    "V_bin = 4.*np.pi/3.*(r_hi**3.-r_lo**3.)\n",
    "\n",
    "for ll in zeta_direct.keys():\n",
    "    for bin1 in range(0, nbins, 1):\n",
    "        for bin2 in range(bin1):\n",
    "            norm = V_bin[bin1] * V_bin[bin2] \n",
    "            norm = 1 # No Normalization\n",
    "            zeta_direct[ll][bin1, bin2] /= norm\n",
    "            zeta_direct[ll][bin2, bin1] = zeta_direct[ll][bin1, bin2]"
   ]
  },
  {
   "cell_type": "markdown",
   "id": "2fad0b48-0afe-43ca-9cc3-5a59063740f0",
   "metadata": {
    "jp-MarkdownHeadingCollapsed": true,
    "tags": []
   },
   "source": [
    "## Encore"
   ]
  },
  {
   "cell_type": "code",
   "execution_count": 53,
   "id": "f4fe8c0a-93d8-4e9e-b527-4598594328b6",
   "metadata": {},
   "outputs": [],
   "source": [
    "def format_encore_output(npcf, folder, nbins, rmin, rmax, boxsize, Nmesh, ell_max=4):\n",
    "    # Number of radial bins per dimension\n",
    "    n_r = nbins\n",
    "\n",
    "    def load_encore(N=4, R_file = None):\n",
    "        if N>2:\n",
    "            countsR = np.loadtxt(R_file,skiprows=5+N) # skipping rows with radial bins\n",
    "        else:\n",
    "            countsR = np.loadtxt(R_file,skiprows=5)\n",
    "        # Extract ells and radial bins\n",
    "        if N==2:\n",
    "            bin1 = np.loadtxt(R_file,skiprows=4,max_rows=1)\n",
    "            assert len(bin1)==n_r\n",
    "            return bin1, countsR\n",
    "        elif N==3:\n",
    "            ell_1 = np.asarray(countsR[:,0],dtype=int)\n",
    "            max_ell = np.max(ell_1)\n",
    "            countsR = countsR[:,1:]\n",
    "            bin1,bin2 = np.loadtxt(R_file,skiprows=6,max_rows=2)\n",
    "            return ell_1,[bin1,bin2],countsR\n",
    "        elif N==4:\n",
    "            ell_1,ell_2,ell_3 = np.asarray(countsR[:,:3],dtype=int).T\n",
    "            max_ell = np.max(ell_1)\n",
    "            countsR = countsR[:,3:]\n",
    "            bin1,bin2,bin3 = np.loadtxt(R_file,skiprows=6,max_rows=3)\n",
    "            return [ell_1,ell_2,ell_3],[bin1,bin2,bin3],countsR\n",
    "        else:\n",
    "            raise Exception(\"%dPCF not yet configured\"%N)\n",
    "\n",
    "\n",
    "    # Load a bunch of simulations\n",
    "    encore2pcfs, encore3pcfs, encore4pcfs = [],[],[]\n",
    "    twopcf = load_encore(2,'encore_data/encore_final_comparison_2pcf.txt')\n",
    "    threepcf = load_encore(3,'encore_data/encore_final_comparison_3pcf.txt')\n",
    "    fourpcf = load_encore(4,'encore_data/encore_final_comparison_4pcf.txt')\n",
    "    encore2pcfs.append(twopcf)\n",
    "    encore3pcfs.append(threepcf)\n",
    "    encore4pcfs.append(fourpcf)\n",
    "        \n",
    "    # Define radial bins\n",
    "    r_arr = np.linspace(rmin,rmax,n_r+1)\n",
    "    r_lo = r_arr[:-1]\n",
    "    r_hi = r_arr[1:]\n",
    "    r_av = 0.5*(r_lo+r_hi)\n",
    "    V_bin = 4.*np.pi/3.*(r_hi**3.-r_lo**3.)\n",
    "    \n",
    "    if npcf == 2:\n",
    "        ## Normalize 2PCF\n",
    "        xi_encore = np.asarray([np.asarray(twopcf[1]/V_bin)*boxsize**3/Nmesh**6. for twopcf in encore2pcfs])\n",
    "        return xi_encore, r_av\n",
    "    \n",
    "    elif npcf == 3:\n",
    "        # print(threepcf[2].shape)\n",
    "        zeta_list = []\n",
    "        for n in range(len(encore3pcfs)):\n",
    "            threepcf = encore3pcfs[n]\n",
    "            zeta = np.zeros((ell_max + 1, nbins, nbins))\n",
    "            for i in range(threepcf[2].shape[0]):\n",
    "                l = threepcf[0][i]\n",
    "                for j in range(threepcf[2].shape[1]):\n",
    "                    b1,b2 = int(threepcf[1][0][j]), int(threepcf[1][1][j])\n",
    "                    this_3pcf = threepcf[2][i,j]\n",
    "                    norm = V_bin[b1] * V_bin[b2]\n",
    "                    norm = 1 # No Normalization\n",
    "                    this_3pcf /= norm\n",
    "                    zeta[l,b1,b2] = this_3pcf \n",
    "                    zeta[l,b2,b1] = this_3pcf\n",
    "                    \n",
    "            zeta_list.append(zeta)\n",
    "        return zeta_list[0], r_av\n",
    "\n",
    "    # Normalize 4PCF and put into an easy to\n",
    "    elif npcf == 4:\n",
    "        zeta_list = []\n",
    "        for n in range(len(encore4pcfs)):\n",
    "            fourpcf = encore4pcfs[n]\n",
    "            zeta = np.zeros((ell_max+1, ell_max+1, ell_max+1,nbins, nbins, nbins))\n",
    "            for i in range(fourpcf[2].shape[0]): # iterate over first axis\n",
    "                l1, l2, l3 = fourpcf[0][0][i],fourpcf[0][1][i], fourpcf[0][2][i] \n",
    "                # find out which {l1,l2,l3} this row corresponds to\n",
    "                for j in range(fourpcf[2].shape[1]): # iterate over second axis\n",
    "                    b1, b2, b3 = int(fourpcf[1][0][j]), int(fourpcf[1][1][j]), int(fourpcf[1][2][j]) \n",
    "                    # find out which {b1, b2, b3} this column corresponds to \n",
    "                    this_4pcf = fourpcf[2][i,j]\n",
    "                    norm = V_bin[b1]*V_bin[b2]*V_bin[b3]\n",
    "                    norm = 1 # No Normalization\n",
    "                    this_4pcf /= norm\n",
    "                    # this_4pcf *= (4*np.pi)**(3) * (boxsize**9/Nmesh**12) \n",
    "                    zeta[l1,l2,l3,b1,b2,b3] = this_4pcf\n",
    "                    zeta[l3,l1,l2,b3,b1,b2] = this_4pcf\n",
    "                    zeta[l2,l3,l1,b2,b3,b1] = this_4pcf\n",
    "                    zeta[l1,l3,l2,b1,b3,b2] = this_4pcf\n",
    "                    zeta[l2,l1,l3,b2,b1,b3] = this_4pcf\n",
    "                    zeta[l3,l2,l1,b3,b2,b1] = this_4pcf\n",
    "            zeta_list.append(zeta)\n",
    "\n",
    "        return zeta_list[0], r_av\n",
    "    else:\n",
    "        print(\"This is not yet implemented\")\n",
    "\n",
    "\n"
   ]
  },
  {
   "cell_type": "code",
   "execution_count": 23,
   "id": "7dd800e1-30eb-4455-b57e-d3d11524b707",
   "metadata": {},
   "outputs": [],
   "source": [
    "zeta_encore, r_av = format_encore_output(npcf=npcf, folder=\"\",\n",
    "                                         nbins=nbins, rmin=rmin,\n",
    "                                         rmax=nx/2, boxsize=lbox,\n",
    "                                         Nmesh=nx, ell_max=4)\n",
    "\n"
   ]
  },
  {
   "cell_type": "markdown",
   "id": "1c55f068-74cf-456f-b4dc-2ca698b140b5",
   "metadata": {
    "jp-MarkdownHeadingCollapsed": true,
    "tags": []
   },
   "source": [
    "## Sarabande"
   ]
  },
  {
   "cell_type": "code",
   "execution_count": 25,
   "id": "dad2e278-cbd5-44d2-8413-52366019efde",
   "metadata": {
    "collapsed": true,
    "jupyter": {
     "outputs_hidden": true
    },
    "tags": []
   },
   "outputs": [
    {
     "name": "stdout",
     "output_type": "stream",
     "text": [
      "Preparing the data:\n",
      "Creating XYZ Grids for radial bin and ylm creation ... \n",
      "\n",
      "Creating radial bins ... \n",
      "\n",
      "taking the fourier transform of data ... \n",
      "\n",
      "calculating YLM Coefficients ... \n",
      "\n",
      "binning spherical harmonics ... \n",
      "\n",
      "ell, m =  0 0\n",
      "bin i =  0\n",
      "bin i =  1\n",
      "bin i =  2\n",
      "bin i =  3\n",
      "bin i =  4\n",
      "bin i =  5\n",
      "bin i =  6\n",
      "bin i =  7\n",
      "bin i =  8\n",
      "bin i =  9\n",
      "ell, m =  1 0\n",
      "bin i =  0\n",
      "bin i =  1\n",
      "bin i =  2\n",
      "bin i =  3\n",
      "bin i =  4\n",
      "bin i =  5\n",
      "bin i =  6\n",
      "bin i =  7\n",
      "bin i =  8\n",
      "bin i =  9\n",
      "ell, m =  1 1\n",
      "bin i =  0\n",
      "bin i =  1\n",
      "bin i =  2\n",
      "bin i =  3\n",
      "bin i =  4\n",
      "bin i =  5\n",
      "bin i =  6\n",
      "bin i =  7\n",
      "bin i =  8\n",
      "bin i =  9\n",
      "ell, m =  2 0\n",
      "bin i =  0\n",
      "bin i =  1\n",
      "bin i =  2\n",
      "bin i =  3\n",
      "bin i =  4\n",
      "bin i =  5\n",
      "bin i =  6\n",
      "bin i =  7\n",
      "bin i =  8\n",
      "bin i =  9\n",
      "ell, m =  2 1\n",
      "bin i =  0\n",
      "bin i =  1\n",
      "bin i =  2\n",
      "bin i =  3\n",
      "bin i =  4\n",
      "bin i =  5\n",
      "bin i =  6\n",
      "bin i =  7\n",
      "bin i =  8\n",
      "bin i =  9\n",
      "ell, m =  2 2\n",
      "bin i =  0\n",
      "bin i =  1\n",
      "bin i =  2\n",
      "bin i =  3\n",
      "bin i =  4\n",
      "bin i =  5\n",
      "bin i =  6\n",
      "bin i =  7\n",
      "bin i =  8\n",
      "bin i =  9\n",
      "calculating a_lm coefficients ... \n",
      "\n",
      "l, m, bin = 0 0 0\n",
      "l, m, bin = 0 0 1\n",
      "l, m, bin = 0 0 2\n",
      "l, m, bin = 0 0 3\n",
      "l, m, bin = 0 0 4\n",
      "l, m, bin = 0 0 5\n",
      "l, m, bin = 0 0 6\n",
      "l, m, bin = 0 0 7\n",
      "l, m, bin = 0 0 8\n",
      "l, m, bin = 0 0 9\n",
      "l, m, bin = 1 0 0\n",
      "l, m, bin = 1 0 1\n",
      "l, m, bin = 1 0 2\n",
      "l, m, bin = 1 0 3\n",
      "l, m, bin = 1 0 4\n",
      "l, m, bin = 1 0 5\n",
      "l, m, bin = 1 0 6\n",
      "l, m, bin = 1 0 7\n",
      "l, m, bin = 1 0 8\n",
      "l, m, bin = 1 0 9\n",
      "l, m, bin = 1 1 0\n",
      "l, m, bin = 1 1 1\n",
      "l, m, bin = 1 1 2\n",
      "l, m, bin = 1 1 3\n",
      "l, m, bin = 1 1 4\n",
      "l, m, bin = 1 1 5\n",
      "l, m, bin = 1 1 6\n",
      "l, m, bin = 1 1 7\n",
      "l, m, bin = 1 1 8\n",
      "l, m, bin = 1 1 9\n",
      "l, m, bin = 2 0 0\n",
      "l, m, bin = 2 0 1\n",
      "l, m, bin = 2 0 2\n",
      "l, m, bin = 2 0 3\n",
      "l, m, bin = 2 0 4\n",
      "l, m, bin = 2 0 5\n",
      "l, m, bin = 2 0 6\n",
      "l, m, bin = 2 0 7\n",
      "l, m, bin = 2 0 8\n",
      "l, m, bin = 2 0 9\n",
      "l, m, bin = 2 1 0\n",
      "l, m, bin = 2 1 1\n",
      "l, m, bin = 2 1 2\n",
      "l, m, bin = 2 1 3\n",
      "l, m, bin = 2 1 4\n",
      "l, m, bin = 2 1 5\n",
      "l, m, bin = 2 1 6\n",
      "l, m, bin = 2 1 7\n",
      "l, m, bin = 2 1 8\n",
      "l, m, bin = 2 1 9\n",
      "l, m, bin = 2 2 0\n",
      "l, m, bin = 2 2 1\n",
      "l, m, bin = 2 2 2\n",
      "l, m, bin = 2 2 3\n",
      "l, m, bin = 2 2 4\n",
      "l, m, bin = 2 2 5\n",
      "l, m, bin = 2 2 6\n",
      "l, m, bin = 2 2 7\n",
      "l, m, bin = 2 2 8\n",
      "l, m, bin = 2 2 9\n",
      "your zeta coefficients are not properly normalized.\n",
      "\n",
      "3PCF took 27.0035 seconds to finish\n"
     ]
    }
   ],
   "source": [
    "#string to directory to save data into\n",
    "save_dir = os.getcwd() + '/output/'\n",
    "\n",
    "#create measure_obj\n",
    "_3PCF = sarabande.measure(nPCF=npcf, projected=False, ell_max=2, density_field_data = data,\n",
    "                                   save_dir=save_dir, save_name='example', nbins=nbins,\n",
    "                                   physical_boxsize=lbox, rmin=rmin, rmax=rmax, normalize=False,\n",
    "                                   particles_on_grid=True)\n",
    "\n",
    "sarabande.calc_zeta(_3PCF, verbose_flag=False)"
   ]
  },
  {
   "cell_type": "markdown",
   "id": "5b16c460-8915-498f-b53a-beeb65bc68a8",
   "metadata": {
    "tags": []
   },
   "source": [
    "## Format Coefficients to 1D"
   ]
  },
  {
   "cell_type": "code",
   "execution_count": 26,
   "id": "ae4e46a1-50db-406e-b2c8-8803e3e326d9",
   "metadata": {},
   "outputs": [],
   "source": [
    "nbins = len(r_av)\n",
    "l = 2"
   ]
  },
  {
   "cell_type": "code",
   "execution_count": 27,
   "id": "825ab920-8dc1-4c48-b9e7-725cb17fd209",
   "metadata": {},
   "outputs": [],
   "source": [
    "#ENCORE\n",
    "zeta_1d,bin_indexes,b_i = [], [], 0\n",
    "\n",
    "for b1 in range(0,nbins):\n",
    "    for b2 in range(b1):\n",
    "        value = zeta_encore[l,b1,b2].real \n",
    "        # value *= (r_av[b1] * r_av[b2])\n",
    "        zeta_1d.append(value)\n",
    "        bin_indexes.append(b_i)\n",
    "        b_i += 1\n",
    "        \n",
    "zeta_1d_encore, bin_indexes_encore = zeta_1d, bin_indexes\n"
   ]
  },
  {
   "cell_type": "code",
   "execution_count": 28,
   "id": "b2955ed9-0c81-44a8-bd12-a3ac6214282a",
   "metadata": {},
   "outputs": [],
   "source": [
    "#SARABANDE\n",
    "zeta_l_1d, bin_indexes, b_i = [], [], 0\n",
    "for b1 in range(0,nbins):\n",
    "    for b2 in range(b1):\n",
    "        value = _3PCF.zeta[l,b1,b2].real\n",
    "        # value *= r_av[b1] * r_av[b2]\n",
    "        zeta_l_1d.append(value)\n",
    "        bin_indexes.append(b_i)\n",
    "        b_i += 1\n",
    "        \n",
    "zeta_1d_sar, bin_indexes_sar = np.array(zeta_l_1d), np.array(bin_indexes)"
   ]
  },
  {
   "cell_type": "code",
   "execution_count": 29,
   "id": "13da6f5e-6ad7-43f4-be48-72e19297af11",
   "metadata": {},
   "outputs": [],
   "source": [
    "#DIRECT COUNTING\n",
    "ell = 2 * str(l)\n",
    "zeta_l_1d, bin_indexes, b_i = [], [], 0\n",
    "for b1 in range(0,nbins):\n",
    "    for b2 in range(b1):\n",
    "        value = zeta_direct[ell][b1,b2].real\n",
    "        # value *= r_av[b1] * r_av[b2]\n",
    "        zeta_l_1d.append(value)\n",
    "        bin_indexes.append(b_i)\n",
    "        b_i += 1\n",
    "        \n",
    "zeta_1d_DC, bin_indexes_DC = np.array(zeta_l_1d), np.array(bin_indexes)"
   ]
  },
  {
   "cell_type": "code",
   "execution_count": 33,
   "id": "b85d55ba-2374-4843-a08b-60ca0ed5f5c6",
   "metadata": {},
   "outputs": [],
   "source": [
    "bin_indexes_sar_3PCF, zeta_1d_sar_3PCF = bin_indexes_sar, zeta_1d_sar\n",
    "bin_indexes_encore_3PCF, zeta_1d_encore_3PCF = bin_indexes_encore, zeta_1d_encore\n",
    "bin_indexes_DC_3PCF, zeta_1d_DC_3PCF = bin_indexes_DC, zeta_1d_DC"
   ]
  },
  {
   "cell_type": "markdown",
   "id": "62d115c1-48cc-4460-bce1-5df8a5665f43",
   "metadata": {
    "jp-MarkdownHeadingCollapsed": true,
    "tags": []
   },
   "source": [
    "# 4PCF"
   ]
  },
  {
   "cell_type": "markdown",
   "id": "89bf6be7-239b-4004-bbcb-00a0fea00508",
   "metadata": {
    "tags": []
   },
   "source": [
    "## Direct Counting"
   ]
  },
  {
   "cell_type": "code",
   "execution_count": 35,
   "id": "987b461b-144a-4ed2-b4d6-4588abf9bbb3",
   "metadata": {},
   "outputs": [
    {
     "name": "stdout",
     "output_type": "stream",
     "text": [
      "no shift executed because in genuine box\n",
      ">> save file to final_full_comparison_outputs/simple_coeff_4pcf_nbins10_lbox128_rmax64.0.pkl\n",
      "number of galaxies: 104\n",
      "elapsed time: 677.376 s\n"
     ]
    }
   ],
   "source": [
    "start_time = time.time()\n",
    "\n",
    "npcf = 4\n",
    "nbins = 10\n",
    "lbox = nx\n",
    "rmax = nx/2\n",
    "rmin=1e-14\n",
    "verbose=False\n",
    "\n",
    "zetas = calc_NPCF(npcf, data_txt, nbins, lbox, rmax, lls=None, verbose=verbose)\n",
    "zetas.init_coeff()\n",
    "zetas.run()\n",
    "sdir = \"direct_results/\"\n",
    "sname1 = sdir+f\"simple_coeff_{npcf}pcf_nbins{nbins}_lbox{lbox}_rmax{rmax}\"\n",
    "zetas.save(sname1)\n",
    " \n",
    "elapsed_time = time.time() - start_time\n",
    "print(f\"number of galaxies: {data_txt.shape[0]:1d}\")\n",
    "print(f\"elapsed time: {elapsed_time:.3f} s\")"
   ]
  },
  {
   "cell_type": "code",
   "execution_count": 36,
   "id": "bfb857be-aead-4f6b-89c1-19a1fc7aba1e",
   "metadata": {
    "tags": []
   },
   "outputs": [
    {
     "name": "stdout",
     "output_type": "stream",
     "text": [
      "110\n",
      "112\n",
      "222\n"
     ]
    }
   ],
   "source": [
    "zeta_direct = pickle.load(open(sdir+f\"simple_coeff_{npcf}pcf_nbins{nbins}_lbox{lbox}_rmax{rmax}.pkl\", \"rb\"))\n",
    "zeta_direct.pop(\"111\") # we ignore odd parity for now\n",
    "\n",
    "\n",
    "n_r = nbins\n",
    "r_arr = np.linspace(rmin,rmax,n_r+1)\n",
    "r_lo = r_arr[:-1]\n",
    "r_hi = r_arr[1:]\n",
    "r_av = 0.5*(r_lo+r_hi)\n",
    "V_bin = 4.*np.pi/3.*(r_hi**3.-r_lo**3.)\n",
    "\n",
    "\n",
    "ell_max = 2\n",
    "keys = ['110', '112', '222']\n",
    "for ll in keys:\n",
    "    print(ll)\n",
    "    l1_, l2_, l3_ = ll   \n",
    "    l1, l2, l3 = int(l1_), int(l2_), int(l3_)\n",
    "    \n",
    "    if l3 >= np.abs(l1 - l2) and l3 <= min(l1 + l2, ell_max)+1:\n",
    "        \n",
    "        if (l1 + l2 + l3)%2 != 0: # we don't assume this to be true for Turbulent ISM\n",
    "            continue\n",
    "            \n",
    "        try:\n",
    "            zeta_direct[l3_+l1_+l2_]\n",
    "        except:\n",
    "            zeta_direct[l3_+l1_+l2_] = np.zeros((nbins, nbins, nbins)) + 0j\n",
    "            \n",
    "        try: \n",
    "            zeta_direct[l2_+l3_+l1_]\n",
    "        except:\n",
    "            zeta_direct[l2_+l3_+l1_] = np.zeros((nbins, nbins, nbins)) + 0j\n",
    "    \n",
    "        try:\n",
    "            zeta_direct[l1_+l3_+l2_]\n",
    "        except:\n",
    "            zeta_direct[l1_+l3_+l2_] = np.zeros((nbins, nbins, nbins)) + 0j\n",
    "        \n",
    "        try:\n",
    "            zeta_direct[l2_+l1_+l3_]\n",
    "        except:\n",
    "            zeta_direct[l2_+l1_+l3_] = np.zeros((nbins, nbins, nbins)) + 0j\n",
    "            \n",
    "        try:\n",
    "            zeta_direct[l3_+l2_+l1_]\n",
    "        except:\n",
    "            zeta_direct[l3_+l2_+l1_] = np.zeros((nbins, nbins, nbins)) + 0j\n",
    "            \n",
    "            \n",
    "        for b1 in range(0, nbins, 1):\n",
    "            for b2 in range(b1+1): #?? for bin2 in range(0, bin2<=bin1, 1):\n",
    "                for b3 in range(b2+1):\n",
    "                    # print(l1,l2,l3, b1,b2,b3)\n",
    "                    \n",
    "                    norm= V_bin[b1]*V_bin[b2]*V_bin[b3]\n",
    "                    norm = 1\n",
    "                    zeta_direct[ll][b1,b2,b3] /= norm\n",
    "                    this_4pcf = zeta_direct[ll][b1,b2,b3]\n",
    "                    zeta_direct[l3_+l1_+l2_][b3,b1,b2] = this_4pcf\n",
    "                    zeta_direct[l2_+l3_+l1_][b2,b3,b1] = this_4pcf\n",
    "                    zeta_direct[l1_+l3_+l2_][b1,b3,b2] = this_4pcf\n",
    "                    zeta_direct[l2_+l1_+l3_][b2,b1,b3] = this_4pcf\n",
    "                    zeta_direct[l3_+l2_+l1_][b3,b2,b1] = this_4pcf\n",
    "                    "
   ]
  },
  {
   "cell_type": "markdown",
   "id": "f073345f-19b9-4331-a338-118daf55701b",
   "metadata": {
    "tags": []
   },
   "source": [
    "## Encore"
   ]
  },
  {
   "cell_type": "code",
   "execution_count": 182,
   "id": "6cfe3fbc-56a8-41d5-9b7e-455ff61090e6",
   "metadata": {},
   "outputs": [
    {
     "name": "stdout",
     "output_type": "stream",
     "text": [
      "4\n"
     ]
    }
   ],
   "source": [
    "zeta_encore, r_av = format_encore_output(npcf=4, folder=\"\",\n",
    "                                         nbins=nbins, rmin=0.0001,\n",
    "                                         rmax=nx/2, boxsize=lbox,\n",
    "                                         Nmesh=nx, ell_max=4)"
   ]
  },
  {
   "cell_type": "markdown",
   "id": "8164bd87-2360-4dba-a7ca-97b1d67f10eb",
   "metadata": {
    "tags": []
   },
   "source": [
    "## Sarabande"
   ]
  },
  {
   "cell_type": "code",
   "execution_count": 40,
   "id": "77143b78-38bb-4596-a578-4e93d43292c8",
   "metadata": {
    "collapsed": true,
    "jupyter": {
     "outputs_hidden": true
    },
    "tags": []
   },
   "outputs": [
    {
     "name": "stdout",
     "output_type": "stream",
     "text": [
      "Preparing the data:\n",
      "Creating XYZ Grids for radial bin and ylm creation ... \n",
      "\n",
      "Creating radial bins ... \n",
      "\n",
      "taking the fourier transform of data ... \n",
      "\n",
      "calculating YLM Coefficients ... \n",
      "\n",
      "binning spherical harmonics ... \n",
      "\n",
      "ell, m =  0 0\n",
      "bin i =  0\n",
      "bin i =  1\n",
      "bin i =  2\n",
      "bin i =  3\n",
      "bin i =  4\n",
      "bin i =  5\n",
      "bin i =  6\n",
      "bin i =  7\n",
      "bin i =  8\n",
      "bin i =  9\n",
      "ell, m =  1 0\n",
      "bin i =  0\n",
      "bin i =  1\n",
      "bin i =  2\n",
      "bin i =  3\n",
      "bin i =  4\n",
      "bin i =  5\n",
      "bin i =  6\n",
      "bin i =  7\n",
      "bin i =  8\n",
      "bin i =  9\n",
      "ell, m =  1 1\n",
      "bin i =  0\n",
      "bin i =  1\n",
      "bin i =  2\n",
      "bin i =  3\n",
      "bin i =  4\n",
      "bin i =  5\n",
      "bin i =  6\n",
      "bin i =  7\n",
      "bin i =  8\n",
      "bin i =  9\n",
      "ell, m =  2 0\n",
      "bin i =  0\n",
      "bin i =  1\n",
      "bin i =  2\n",
      "bin i =  3\n",
      "bin i =  4\n",
      "bin i =  5\n",
      "bin i =  6\n",
      "bin i =  7\n",
      "bin i =  8\n",
      "bin i =  9\n",
      "ell, m =  2 1\n",
      "bin i =  0\n",
      "bin i =  1\n",
      "bin i =  2\n",
      "bin i =  3\n",
      "bin i =  4\n",
      "bin i =  5\n",
      "bin i =  6\n",
      "bin i =  7\n",
      "bin i =  8\n",
      "bin i =  9\n",
      "ell, m =  2 2\n",
      "bin i =  0\n",
      "bin i =  1\n",
      "bin i =  2\n",
      "bin i =  3\n",
      "bin i =  4\n",
      "bin i =  5\n",
      "bin i =  6\n",
      "bin i =  7\n",
      "bin i =  8\n",
      "bin i =  9\n",
      "calculating a_lm coefficients ... \n",
      "\n",
      "l, m, bin = 0 0 0\n",
      "l, m, bin = 0 0 1\n",
      "l, m, bin = 0 0 2\n",
      "l, m, bin = 0 0 3\n",
      "l, m, bin = 0 0 4\n",
      "l, m, bin = 0 0 5\n",
      "l, m, bin = 0 0 6\n",
      "l, m, bin = 0 0 7\n",
      "l, m, bin = 0 0 8\n",
      "l, m, bin = 0 0 9\n",
      "l, m, bin = 1 0 0\n",
      "l, m, bin = 1 0 1\n",
      "l, m, bin = 1 0 2\n",
      "l, m, bin = 1 0 3\n",
      "l, m, bin = 1 0 4\n",
      "l, m, bin = 1 0 5\n",
      "l, m, bin = 1 0 6\n",
      "l, m, bin = 1 0 7\n",
      "l, m, bin = 1 0 8\n",
      "l, m, bin = 1 0 9\n",
      "l, m, bin = 1 1 0\n",
      "l, m, bin = 1 1 1\n",
      "l, m, bin = 1 1 2\n",
      "l, m, bin = 1 1 3\n",
      "l, m, bin = 1 1 4\n",
      "l, m, bin = 1 1 5\n",
      "l, m, bin = 1 1 6\n",
      "l, m, bin = 1 1 7\n",
      "l, m, bin = 1 1 8\n",
      "l, m, bin = 1 1 9\n",
      "l, m, bin = 2 0 0\n",
      "l, m, bin = 2 0 1\n",
      "l, m, bin = 2 0 2\n",
      "l, m, bin = 2 0 3\n",
      "l, m, bin = 2 0 4\n",
      "l, m, bin = 2 0 5\n",
      "l, m, bin = 2 0 6\n",
      "l, m, bin = 2 0 7\n",
      "l, m, bin = 2 0 8\n",
      "l, m, bin = 2 0 9\n",
      "l, m, bin = 2 1 0\n",
      "l, m, bin = 2 1 1\n",
      "l, m, bin = 2 1 2\n",
      "l, m, bin = 2 1 3\n",
      "l, m, bin = 2 1 4\n",
      "l, m, bin = 2 1 5\n",
      "l, m, bin = 2 1 6\n",
      "l, m, bin = 2 1 7\n",
      "l, m, bin = 2 1 8\n",
      "l, m, bin = 2 1 9\n",
      "l, m, bin = 2 2 0\n",
      "l, m, bin = 2 2 1\n",
      "l, m, bin = 2 2 2\n",
      "l, m, bin = 2 2 3\n",
      "l, m, bin = 2 2 4\n",
      "l, m, bin = 2 2 5\n",
      "l, m, bin = 2 2 6\n",
      "l, m, bin = 2 2 7\n",
      "l, m, bin = 2 2 8\n",
      "l, m, bin = 2 2 9\n",
      "Executing 4PCF Calculation ...\n",
      "your zeta coefficients are not properly normalized.\n",
      "Finished Calculating 4PCF in 345.2252 seconds\n"
     ]
    }
   ],
   "source": [
    "#string to directory to save data into\n",
    "save_dir = os.getcwd() + '/output/'\n",
    "\n",
    "#create measure_obj\n",
    "_4PCF = sarabande.measure(nPCF=4, projected=False, ell_max=2, density_field_data = data,\n",
    "                                   save_dir=save_dir, save_name='example', nbins=nbins,\n",
    "                                   physical_boxsize=lbox, rmin=rmin, rmax=rmax, normalize=False,\n",
    "                                   particles_on_grid=True)\n",
    "\n",
    "sarabande.calc_zeta(_4PCF, verbose_flag=False)"
   ]
  },
  {
   "cell_type": "markdown",
   "id": "2de209b3-3ee6-41af-b3de-2f960a04d14a",
   "metadata": {},
   "source": [
    "## Format Coefficients to 1D"
   ]
  },
  {
   "cell_type": "code",
   "execution_count": 191,
   "id": "a152b202-c621-4285-b67f-f15b29e51a39",
   "metadata": {},
   "outputs": [],
   "source": [
    "ells = \"112\""
   ]
  },
  {
   "cell_type": "code",
   "execution_count": 192,
   "id": "5a60f470-0088-4b32-8ef2-65e110cac22d",
   "metadata": {
    "tags": []
   },
   "outputs": [],
   "source": [
    "#ENCORE\n",
    "zeta_l_1d,bin_indexes,b_i = [], [], 0\n",
    "l_1,l_2,l_3 = int(ells[0]),int(ells[1]),int(ells[2])\n",
    "for b1 in range(0,nbins):\n",
    "    for b2 in range(b1):\n",
    "        for b3 in range(b2):\n",
    "            value = zeta_encore[l_1,l_2,l_3,b1,b2,b3].real \n",
    "            # value *= (r_av[b1] * r_av[b2] * r_av[b3])\n",
    "            zeta_l_1d.append(value)\n",
    "            bin_indexes.append(b_i)\n",
    "            b_i += 1\n",
    "\n",
    "zeta_1d_encore, bin_indexes_encore = np.array(zeta_l_1d), np.array(bin_indexes)"
   ]
  },
  {
   "cell_type": "code",
   "execution_count": 193,
   "id": "bd3ea4d9-f35f-44cb-8a69-e18cc6edcf4a",
   "metadata": {
    "tags": []
   },
   "outputs": [],
   "source": [
    "#SARABANDE\n",
    "zeta_l_1d,bin_indexes,b_i = [], [], 0\n",
    "l_1,l_2,l_3 = int(ells[0]),int(ells[1]),int(ells[2])\n",
    "for b1 in range(0,nbins):\n",
    "    for b2 in range(b1):\n",
    "        for b3 in range(b2):\n",
    "            value = _4PCF.zeta[l_1,l_2,l_3,b1,b2,b3].real \n",
    "            # value *= (r_av[b1] * r_av[b2] * r_av[b3])\n",
    "            zeta_l_1d.append(value)\n",
    "            bin_indexes.append(b_i)\n",
    "            b_i += 1\n",
    "\n",
    "zeta_1d_sar, bin_indexes_sar = np.array(zeta_l_1d), np.array(bin_indexes)"
   ]
  },
  {
   "cell_type": "code",
   "execution_count": 194,
   "id": "c787b5a8-0685-43bf-bbe4-21aa1e7ccb9a",
   "metadata": {
    "tags": []
   },
   "outputs": [],
   "source": [
    "#DIRECT COUNTING\n",
    "zeta_l_1d, bin_indexes, b_i = [], [], 0\n",
    "for b1 in range(0,nbins):\n",
    "    for b2 in range(b1):\n",
    "        for b3 in range(b2):\n",
    "            value = zeta_direct[ells][b1,b2,b3].real\n",
    "            # value *= r_av[b1] * r_av[b2] * r_av[b3]\n",
    "            zeta_l_1d.append(value)\n",
    "            bin_indexes.append(b_i)\n",
    "            b_i += 1\n",
    "            \n",
    "zeta_1d_DC, bin_indexes_DC = np.array(zeta_l_1d), np.array(bin_indexes)"
   ]
  },
  {
   "cell_type": "code",
   "execution_count": 196,
   "id": "e0c68669-840a-45a5-ba20-db426a888d99",
   "metadata": {
    "tags": []
   },
   "outputs": [],
   "source": [
    "bin_indexes_sar_4PCF, zeta_1d_sar_4PCF = bin_indexes_sar, zeta_1d_sar\n",
    "bin_indexes_encore_4PCF, zeta_1d_encore_4PCF = bin_indexes_encore, zeta_1d_encore\n",
    "bin_indexes_DC_4PCF, zeta_1d_DC_4PCF = bin_indexes_DC, zeta_1d_DC"
   ]
  },
  {
   "cell_type": "markdown",
   "id": "3b675fef-0768-440a-b4db-525830946b9f",
   "metadata": {
    "jp-MarkdownHeadingCollapsed": true,
    "tags": []
   },
   "source": [
    "# Plot Results"
   ]
  },
  {
   "cell_type": "code",
   "execution_count": 213,
   "id": "7fe050a1-7a94-4dab-80d7-2cff40bd071d",
   "metadata": {},
   "outputs": [],
   "source": [
    "def create_NPCF_plot(ax_center, \n",
    "                     NPCF, \n",
    "                     sarabande_data, DC_data, encore_data,\n",
    "                     offset_center, residual_factor,\n",
    "                     c_bounds_l,c_bounds_r,\n",
    "                     legend,\n",
    "                     size=\"20%\", pad=0):\n",
    "    \n",
    "    \"\"\"\n",
    "    ax_center: ax object\n",
    "    NPCF: Int 3 or 4 for 3/4 PCF\n",
    "    sarabande_data, DC_data: lists with [x_data, y_data]\n",
    "    offset_center: how much we offset Re & Im parts\n",
    "    residual_factor: factor we multiply residuals by to scale them by (14 -> R x 1e14)\n",
    "    c_bounds_l,c_bounds_r: lower and upper bounds for center axis\n",
    "    legend: bool to indicate if a legend is desired\n",
    "    size: percentage string indicating the size of the residual axis\n",
    "    pad: spacing between the center and residual axes\n",
    "    \n",
    "    \"\"\"\n",
    "    \n",
    "    #divide the axes into two\n",
    "    divider = make_axes_locatable(ax_center)\n",
    "    ax_bottom = divider.append_axes(\"bottom\", size=size, pad=pad)\n",
    "    ax_center.figure.add_axes(ax_bottom)\n",
    "    \n",
    "    #format data\n",
    "    sarabande_bins, zeta_1d_sarabande = sarabande_data\n",
    "    direct_bins, zeta_1d_direct = DC_data\n",
    "    encore_bins, zeta_1d_encore = encore_data\n",
    "    \n",
    "    #center plot\n",
    "    \n",
    "    # -----> labels & titles\n",
    "    \n",
    "        \n",
    "    if NPCF == 3:\n",
    "        ax_center.set_ylabel(\"$\\\\hat{\\zeta}^{\\mathrm{ \\; b_1 b_2}}_{\\\\ell}$\", \n",
    "                            fontsize=30)\n",
    "    elif NPCF == 4:\n",
    "        ax_center.set_ylabel(\"$\\\\hat{\\zeta}^{\\mathrm{ \\; b_1 b_2 b_3}}_{\\\\ell_1 \\\\ell_2 \\\\ell_3}$\",\n",
    "                            fontsize=30)\n",
    "\n",
    "    # -----> plotting data\n",
    "    ax_center.plot(sarabande_bins, zeta_1d_sarabande + offset_center,\n",
    "                   color=\"red\", linestyle=\"-\", linewidth=4,label=\"Sarabande\")\n",
    "    \n",
    "    ax_center.plot(encore_bins, zeta_1d_encore + offset_center,\n",
    "                   color=\"black\", linestyle=\"dashdot\", linewidth=4, label=\"Encore\")\n",
    "    \n",
    "    ax_center.plot(direct_bins, zeta_1d_direct + offset_center,\n",
    "                   color=\"dodgerblue\", linestyle=\":\", linewidth=4, label=\"Direct Counting\")\n",
    "\n",
    "    # -----> bounds\n",
    "    ax_center.set_xlim(0,len(direct_bins)-1)\n",
    "    ax_center.set_ylim(c_bounds_l,c_bounds_r)\n",
    "    \n",
    "    # -----> grid & legend\n",
    "    ax_center.set_xticklabels([])\n",
    "    ax_center.grid()\n",
    "    \n",
    "    if legend:\n",
    "        ax_center.legend(shadow=True, edgecolor=\"black\", ncol=2, fontsize=18)\n",
    "    \n",
    "    #residual plot\n",
    "    \n",
    "    factor = 10**residual_factor\n",
    "    \n",
    "    # ax_bottom.plot(direct_bins, \n",
    "    #               (zeta_1d_direct - zeta_1d_sarabande) * factor,\n",
    "    #                color=\"red\",linestyle=\"--\", linewidth=4)\n",
    "    \n",
    "    \n",
    "    ax_bottom.plot(direct_bins, \n",
    "                  (zeta_1d_encore - zeta_1d_direct) * factor,\n",
    "                   color=\"blue\",linestyle=\"-\", linewidth=4)\n",
    "    \n",
    "    ax_bottom.plot(direct_bins, \n",
    "                  (zeta_1d_encore - zeta_1d_sarabande) * factor,\n",
    "                   color=\"red\",linestyle=\"--\", linewidth=4)\n",
    "    \n",
    "    \n",
    "    \n",
    "    \n",
    "    ax_bottom.set_ylim(-9,9)\n",
    "    ax_bottom.set_xlim(0,len(direct_bins)-1)\n",
    "    label_str = \"Residuals \\n $\\\\times 10^{-\" + str(residual_factor) + \"}$\"\n",
    "    ax_bottom.set_ylabel(label_str)\n",
    "    ax_bottom.set_xlabel(\"Bin Index\")\n",
    "    ax_bottom.grid()\n",
    "    \n",
    "    # ------------------------------"
   ]
  },
  {
   "cell_type": "code",
   "execution_count": 214,
   "id": "7fa6021f-606f-4ba3-a805-1a87c8164d36",
   "metadata": {},
   "outputs": [],
   "source": [
    "sarabande_3PCF_data = [bin_indexes_sar_3PCF, zeta_1d_sar_3PCF]\n",
    "encore_3PCF_data = [bin_indexes_encore_3PCF, zeta_1d_encore_3PCF]\n",
    "DC_3PCF_data = [bin_indexes_DC_3PCF, zeta_1d_DC_3PCF]\n",
    "\n",
    "sarabande_4PCF_data = [bin_indexes_sar_4PCF, zeta_1d_sar_4PCF]\n",
    "encore_4PCF_data = [bin_indexes_encore_4PCF, zeta_1d_encore_4PCF]\n",
    "DC_4PCF_data = [bin_indexes_DC_4PCF, zeta_1d_DC_4PCF]"
   ]
  },
  {
   "cell_type": "code",
   "execution_count": 217,
   "id": "d5c9ee18-8b35-4835-b651-3eecd1423a6d",
   "metadata": {},
   "outputs": [
    {
     "data": {
      "image/png": "[encoded data removed]",
      "text/plain": [
       "<Figure size 800x1200 with 4 Axes>"
      ]
     },
     "metadata": {},
     "output_type": "display_data"
    }
   ],
   "source": [
    "fig, axes = plt.subplots(nrows=2, ncols=1, figsize=(8,12), constrained_layout=True,\n",
    "                         gridspec_kw={\"height_ratios\":[1,1], \"hspace\":0.22, \"wspace\":0.05})\n",
    "                                                                            \n",
    "\n",
    "create_NPCF_plot(axes[0], 3,\n",
    "                 sarabande_3PCF_data, DC_3PCF_data, encore_3PCF_data,\n",
    "                 offset_center = 0, residual_factor = 6,\n",
    "                 c_bounds_l = -15,c_bounds_r = 15,\n",
    "                 legend = True,\n",
    "                 size=\"35%\")\n",
    "axes[0].set_title(f\"Full 3PCF: $\\\\ell = {l}$\", pad =10)\n",
    "\n",
    "\n",
    "create_NPCF_plot(axes[1], 4,\n",
    "                 sarabande_4PCF_data, DC_4PCF_data, encore_4PCF_data,\n",
    "                 offset_center = 0, residual_factor = 6,\n",
    "                 c_bounds_l = -15,c_bounds_r = 15,\n",
    "                 legend = False,\n",
    "                 size=\"35%\")\n",
    "axes[1].set_title(f\"Full 4PCF: $\\ell_1 , \\ell_2 , \\ell_3 = {ells[0]}, {ells[1]}, {ells[2]}$\", pad =10)\n",
    "\n",
    "\n",
    "\n",
    "\n",
    "\n",
    "# plt.tight_layout()  \n",
    "# plt.savefig(\"Full_PCF_comparison_figure.pdf\", dpi = 300, bbox_inches=\"tight\")\n",
    "plt.show()\n",
    "\n"
   ]
  },
  {
   "cell_type": "markdown",
   "id": "9dc8df2f-5240-44de-8c4e-f19cbcdfd944",
   "metadata": {
    "jp-MarkdownHeadingCollapsed": true,
    "tags": []
   },
   "source": [
    "## Generate Data"
   ]
  },
  {
   "cell_type": "code",
   "execution_count": 460,
   "id": "fd420092-e1b5-431c-999d-3dc92a109eaa",
   "metadata": {},
   "outputs": [
    {
     "name": "stdout",
     "output_type": "stream",
     "text": [
      "There should be 18 galaxies\n"
     ]
    }
   ],
   "source": [
    "nx = 64\n",
    "data = np.zeros((nx,nx,nx))\n",
    "np.random.seed(7)\n",
    "\n",
    "xs, ys, zs, ws = [],[],[],[]\n",
    "for x in range(nx):\n",
    "    for y in range(nx):\n",
    "        for z in range(nx):\n",
    "            if np.random.randint(low=1, high=20000) == 300:\n",
    "                data[x,y,z] = 1\n",
    "                xs.append(x)\n",
    "                ys.append(y)\n",
    "                zs.append(z)\n",
    "                ws.append(1)\n",
    "                \n",
    "\n",
    "print(f\"There should be {len(np.where(data == 1)[0])} galaxies\")\n",
    "data_txt = np.array([xs, ys, zs, ws]).T   "
   ]
  },
  {
   "cell_type": "code",
   "execution_count": 461,
   "id": "b41b090f-7155-44c2-a002-1f80a0e13f57",
   "metadata": {},
   "outputs": [],
   "source": [
    "#save data\n",
    "np.savetxt(\"simple_data.txt\", data_txt)"
   ]
  },
  {
   "cell_type": "markdown",
   "id": "a0d0ca1c-13f6-4780-aee6-a655f26a9a99",
   "metadata": {
    "jp-MarkdownHeadingCollapsed": true,
    "tags": []
   },
   "source": [
    "## 3PCF"
   ]
  },
  {
   "cell_type": "markdown",
   "id": "90869ed8-59b4-44bb-b5f1-5cba4d37d933",
   "metadata": {
    "tags": []
   },
   "source": [
    "### Encore"
   ]
  },
  {
   "cell_type": "code",
   "execution_count": 462,
   "id": "4af41f13-7aea-45a8-a2f5-379a5aede710",
   "metadata": {},
   "outputs": [],
   "source": [
    "def format_encore_output(npcf, folder, nbins, rmin, rmax, boxsize, Nmesh, ell_max=4):\n",
    "    # Number of radial bins per dimension\n",
    "    n_r = nbins\n",
    "\n",
    "    def load_encore(N=4, R_file = None):\n",
    "        if N>2:\n",
    "            countsR = np.loadtxt(R_file,skiprows=5+N) # skipping rows with radial bins\n",
    "        else:\n",
    "            countsR = np.loadtxt(R_file,skiprows=5)\n",
    "        # Extract ells and radial bins\n",
    "        if N==2:\n",
    "            bin1 = np.loadtxt(R_file,skiprows=4,max_rows=1)\n",
    "            assert len(bin1)==n_r\n",
    "            return bin1, countsR\n",
    "        elif N==3:\n",
    "            ell_1 = np.asarray(countsR[:,0],dtype=int)\n",
    "            max_ell = np.max(ell_1)\n",
    "            countsR = countsR[:,1:]\n",
    "            bin1,bin2 = np.loadtxt(R_file,skiprows=6,max_rows=2)\n",
    "            return ell_1,[bin1,bin2],countsR\n",
    "        elif N==4:\n",
    "            ell_1,ell_2,ell_3 = np.asarray(countsR[:,:3],dtype=int).T\n",
    "            max_ell = np.max(ell_1)\n",
    "            countsR = countsR[:,3:]\n",
    "            bin1,bin2,bin3 = np.loadtxt(R_file,skiprows=6,max_rows=3)\n",
    "            return [ell_1,ell_2,ell_3],[bin1,bin2,bin3],countsR\n",
    "        else:\n",
    "            raise Exception(\"%dPCF not yet configured\"%N)\n",
    "\n",
    "\n",
    "    # Load a bunch of simulations\n",
    "    encore2pcfs, encore3pcfs, encore4pcfs = [],[],[]\n",
    "    twopcf = load_encore(2,'Final_Comparison_Testing/encore_final_comparison_2pcf.txt')\n",
    "    threepcf = load_encore(3,'Final_Comparison_Testing/encore_final_comparison_3pcf.txt')\n",
    "    fourpcf = load_encore(4,'Final_Comparison_Testing/encore_final_comparison_4pcf.txt')\n",
    "    encore2pcfs.append(twopcf)\n",
    "    encore3pcfs.append(threepcf)\n",
    "    encore4pcfs.append(fourpcf)\n",
    "        \n",
    "    # Define radial bins\n",
    "    r_arr = np.linspace(rmin,rmax,n_r+1)\n",
    "    r_lo = r_arr[:-1]\n",
    "    r_hi = r_arr[1:]\n",
    "    r_av = 0.5*(r_lo+r_hi)\n",
    "    V_bin = 4.*np.pi/3.*(r_hi**3.-r_lo**3.)\n",
    "    \n",
    "    if npcf == 2:\n",
    "        ## Normalize 2PCF\n",
    "        xi_encore = np.asarray([np.asarray(twopcf[1]/V_bin)*boxsize**3/Nmesh**6. for twopcf in encore2pcfs])\n",
    "        return xi_encore, r_av\n",
    "    \n",
    "    elif npcf == 3:\n",
    "        # print(threepcf[2].shape)\n",
    "        zeta_list = []\n",
    "        for n in range(len(encore3pcfs)):\n",
    "            threepcf = encore3pcfs[n]\n",
    "            zeta = np.zeros((ell_max + 1, nbins, nbins))\n",
    "            for i in range(threepcf[2].shape[0]):\n",
    "                l = threepcf[0][i]\n",
    "                for j in range(threepcf[2].shape[1]):\n",
    "                    b1,b2 = int(threepcf[1][0][j]), int(threepcf[1][1][j])\n",
    "                    this_3pcf = threepcf[2][i,j]\n",
    "                    norm = V_bin[b1] * V_bin[b2] \n",
    "                    this_3pcf /= norm\n",
    "                    zeta[l,b1,b2] = this_3pcf \n",
    "                    zeta[l,b2,b1] = this_3pcf\n",
    "                    \n",
    "            zeta_list.append(zeta)\n",
    "        return zeta_list[0], r_av\n",
    "\n",
    "    # Normalize 4PCF and put into an easy to\n",
    "    elif npcf == 4:\n",
    "        zeta_list = []\n",
    "        for n in range(len(encore4pcfs)):\n",
    "            fourpcf = encore4pcfs[n]\n",
    "            zeta = np.zeros((ell_max+1, ell_max+1, ell_max+1,nbins, nbins, nbins))\n",
    "            for i in range(fourpcf[2].shape[0]): # iterate over first axis\n",
    "                l1, l2, l3 = fourpcf[0][0][i],fourpcf[0][1][i], fourpcf[0][2][i] \n",
    "                # find out which {l1,l2,l3} this row corresponds to\n",
    "                for j in range(fourpcf[2].shape[1]): # iterate over second axis\n",
    "                    b1, b2, b3 = int(fourpcf[1][0][j]), int(fourpcf[1][1][j]), int(fourpcf[1][2][j]) \n",
    "                    # find out which {b1, b2, b3} this column corresponds to \n",
    "                    this_4pcf = fourpcf[2][i,j]\n",
    "                    normalization = V_bin[b1]*V_bin[b2]*V_bin[b3]\n",
    "                    this_4pcf /= normalization\n",
    "                    # this_4pcf *= (4*np.pi)**(3) * (boxsize**9/Nmesh**12) \n",
    "                    zeta[l1,l2,l3,b1,b2,b3] = this_4pcf\n",
    "                    zeta[l3,l1,l2,b3,b1,b2] = this_4pcf\n",
    "                    zeta[l2,l3,l1,b2,b3,b1] = this_4pcf\n",
    "                    zeta[l1,l3,l2,b1,b3,b2] = this_4pcf\n",
    "                    zeta[l2,l1,l3,b2,b1,b3] = this_4pcf\n",
    "                    zeta[l3,l2,l1,b3,b2,b1] = this_4pcf\n",
    "            zeta_list.append(zeta)\n",
    "\n",
    "        return zeta_list[0], r_av\n",
    "    else:\n",
    "        print(\"This is not yet implemented\")\n",
    "\n",
    "\n"
   ]
  },
  {
   "cell_type": "code",
   "execution_count": 463,
   "id": "53b567bf-bf81-49af-952e-6500d823acd5",
   "metadata": {},
   "outputs": [],
   "source": [
    "zeta_encore, r_av = format_encore_output(npcf=3, folder=\"\", nbins=10, rmin=0.0001, rmax=64, boxsize=128, Nmesh=128, ell_max=4)"
   ]
  },
  {
   "cell_type": "markdown",
   "id": "1b498ee7-593a-4de8-9aea-b5282036d2e8",
   "metadata": {
    "tags": []
   },
   "source": [
    "### Direct Counting"
   ]
  },
  {
   "cell_type": "code",
   "execution_count": 464,
   "id": "63cd9941-ebf6-4cde-bbef-7c1c68932cad",
   "metadata": {},
   "outputs": [],
   "source": [
    "from calc_full_NPCF_iso_direct import calc_NPCF\n",
    "import time"
   ]
  },
  {
   "cell_type": "code",
   "execution_count": 465,
   "id": "04de161e-a077-4768-bfa0-0df9f96d60e1",
   "metadata": {},
   "outputs": [
    {
     "name": "stdout",
     "output_type": "stream",
     "text": [
      "no shift executed because in genuine box\n",
      ">> save file to simple_coeff_3pcf_nbins10_lbox64_rmax32.pkl\n",
      "number of galaxies: 18\n",
      "elapsed time: 0.272 s\n"
     ]
    }
   ],
   "source": [
    "start_time = time.time()\n",
    "\n",
    "npcf = 3\n",
    "nbins = 10\n",
    "lbox = 64\n",
    "rmax = 32\n",
    "rmin=1e-4\n",
    "verbose=False\n",
    "\n",
    "zetas = calc_NPCF(npcf, data_txt, nbins, lbox, rmax, lls=None, verbose=verbose)\n",
    "zetas.init_coeff()\n",
    "zetas.run()\n",
    "sdir = \"\"\n",
    "sname1 = sdir+f\"simple_coeff_{npcf:0d}pcf_nbins{nbins:0d}_lbox{lbox:0d}_rmax{rmax:0d}\"\n",
    "zetas.save(sname1)\n",
    " \n",
    "elapsed_time = time.time() - start_time\n",
    "print(f\"number of galaxies: {data_txt.shape[0]:1d}\")\n",
    "print(f\"elapsed time: {elapsed_time:.3f} s\")"
   ]
  },
  {
   "cell_type": "code",
   "execution_count": 466,
   "id": "b33fe76d-59ed-4dea-af20-b26e12d8be3e",
   "metadata": {},
   "outputs": [],
   "source": [
    "import pickle\n",
    "zeta_direct = pickle.load(open(\"simple_coeff_3pcf_nbins10_lbox64_rmax32.pkl\", \"rb\"))\n",
    "\n",
    "n_r = nbins\n",
    "r_arr = np.linspace(rmin,rmax,n_r+1)\n",
    "r_lo = r_arr[:-1]\n",
    "r_hi = r_arr[1:]\n",
    "r_av = 0.5*(r_lo+r_hi)\n",
    "V_bin = 4.*np.pi/3.*(r_hi**3.-r_lo**3.)\n",
    "\n",
    "for ll in zeta_direct.keys():\n",
    "    # zeta_direct[ll] *= 1./(4 * np.pi)\n",
    "    for bin1 in range(0, nbins, 1):\n",
    "        for bin2 in range(bin1): #?? for bin2 in range(0, bin2<=bin1, 1):\n",
    "            norm = V_bin[bin1] * V_bin[bin2] \n",
    "            zeta_direct[ll][bin1, bin2] /= norm\n",
    "            zeta_direct[ll][bin2, bin1] = zeta_direct[ll][bin1, bin2]"
   ]
  },
  {
   "cell_type": "markdown",
   "id": "ea08d7f5-38aa-4328-bd15-a5b81691408a",
   "metadata": {
    "tags": []
   },
   "source": [
    "### Sarabande"
   ]
  },
  {
   "cell_type": "code",
   "execution_count": 467,
   "id": "ebf74616-be80-4738-ad62-5fd396e08e83",
   "metadata": {},
   "outputs": [],
   "source": [
    "import sarabande\n",
    "import os"
   ]
  },
  {
   "cell_type": "code",
   "execution_count": 468,
   "id": "f347591c-26d0-477d-b441-1e3e676fb8d4",
   "metadata": {
    "collapsed": true,
    "jupyter": {
     "outputs_hidden": true
    },
    "tags": []
   },
   "outputs": [
    {
     "name": "stdout",
     "output_type": "stream",
     "text": [
      "Preparing the data:\n",
      "Creating XYZ Grids for radial bin and ylm creation ... \n",
      "\n",
      "Creating radial bins ... \n",
      "\n",
      "taking the fourier transform of data ... \n",
      "\n",
      "calculating YLM Coefficients ... \n",
      "\n",
      "binning spherical harmonics ... \n",
      "\n",
      "ell, m =  0 0\n",
      "bin i =  0\n",
      "bin i =  1\n",
      "bin i =  2\n",
      "bin i =  3\n",
      "bin i =  4\n",
      "bin i =  5\n",
      "bin i =  6\n",
      "bin i =  7\n",
      "bin i =  8\n",
      "bin i =  9\n",
      "ell, m =  1 0\n",
      "bin i =  0\n",
      "bin i =  1\n",
      "bin i =  2\n",
      "bin i =  3\n",
      "bin i =  4\n",
      "bin i =  5\n",
      "bin i =  6\n",
      "bin i =  7\n",
      "bin i =  8\n",
      "bin i =  9\n",
      "ell, m =  1 1\n",
      "bin i =  0\n",
      "bin i =  1\n",
      "bin i =  2\n",
      "bin i =  3\n",
      "bin i =  4\n",
      "bin i =  5\n",
      "bin i =  6\n",
      "bin i =  7\n",
      "bin i =  8\n",
      "bin i =  9\n",
      "ell, m =  2 0\n",
      "bin i =  0\n",
      "bin i =  1\n",
      "bin i =  2\n",
      "bin i =  3\n",
      "bin i =  4\n",
      "bin i =  5\n",
      "bin i =  6\n",
      "bin i =  7\n",
      "bin i =  8\n",
      "bin i =  9\n",
      "ell, m =  2 1\n",
      "bin i =  0\n",
      "bin i =  1\n",
      "bin i =  2\n",
      "bin i =  3\n",
      "bin i =  4\n",
      "bin i =  5\n",
      "bin i =  6\n",
      "bin i =  7\n",
      "bin i =  8\n",
      "bin i =  9\n",
      "ell, m =  2 2\n",
      "bin i =  0\n",
      "bin i =  1\n",
      "bin i =  2\n",
      "bin i =  3\n",
      "bin i =  4\n",
      "bin i =  5\n",
      "bin i =  6\n",
      "bin i =  7\n",
      "bin i =  8\n",
      "bin i =  9\n",
      "calculating a_lm coefficients ... \n",
      "\n",
      "l, m, bin = 0 0 0\n",
      "l, m, bin = 0 0 1\n",
      "l, m, bin = 0 0 2\n",
      "l, m, bin = 0 0 3\n",
      "l, m, bin = 0 0 4\n",
      "l, m, bin = 0 0 5\n",
      "l, m, bin = 0 0 6\n",
      "l, m, bin = 0 0 7\n",
      "l, m, bin = 0 0 8\n",
      "l, m, bin = 0 0 9\n",
      "l, m, bin = 1 0 0\n",
      "l, m, bin = 1 0 1\n",
      "l, m, bin = 1 0 2\n",
      "l, m, bin = 1 0 3\n",
      "l, m, bin = 1 0 4\n",
      "l, m, bin = 1 0 5\n",
      "l, m, bin = 1 0 6\n",
      "l, m, bin = 1 0 7\n",
      "l, m, bin = 1 0 8\n",
      "l, m, bin = 1 0 9\n",
      "l, m, bin = 1 1 0\n",
      "l, m, bin = 1 1 1\n",
      "l, m, bin = 1 1 2\n",
      "l, m, bin = 1 1 3\n",
      "l, m, bin = 1 1 4\n",
      "l, m, bin = 1 1 5\n",
      "l, m, bin = 1 1 6\n",
      "l, m, bin = 1 1 7\n",
      "l, m, bin = 1 1 8\n",
      "l, m, bin = 1 1 9\n",
      "l, m, bin = 2 0 0\n",
      "l, m, bin = 2 0 1\n",
      "l, m, bin = 2 0 2\n",
      "l, m, bin = 2 0 3\n",
      "l, m, bin = 2 0 4\n",
      "l, m, bin = 2 0 5\n",
      "l, m, bin = 2 0 6\n",
      "l, m, bin = 2 0 7\n",
      "l, m, bin = 2 0 8\n",
      "l, m, bin = 2 0 9\n",
      "l, m, bin = 2 1 0\n",
      "l, m, bin = 2 1 1\n",
      "l, m, bin = 2 1 2\n",
      "l, m, bin = 2 1 3\n",
      "l, m, bin = 2 1 4\n",
      "l, m, bin = 2 1 5\n",
      "l, m, bin = 2 1 6\n",
      "l, m, bin = 2 1 7\n",
      "l, m, bin = 2 1 8\n",
      "l, m, bin = 2 1 9\n",
      "l, m, bin = 2 2 0\n",
      "l, m, bin = 2 2 1\n",
      "l, m, bin = 2 2 2\n",
      "l, m, bin = 2 2 3\n",
      "l, m, bin = 2 2 4\n",
      "l, m, bin = 2 2 5\n",
      "l, m, bin = 2 2 6\n",
      "l, m, bin = 2 2 7\n",
      "l, m, bin = 2 2 8\n",
      "l, m, bin = 2 2 9\n",
      "\n",
      "3PCF took 2.8859 seconds to finish\n"
     ]
    }
   ],
   "source": [
    "#string to directory to save data into\n",
    "save_dir = os.getcwd() + '/output/'\n",
    "\n",
    "#create measure_obj\n",
    "_3PCF = sarabande.measure(nPCF=3, projected=False, ell_max=2, density_field_data = data,\n",
    "                                   save_dir=save_dir, save_name='example', nbins=10,\n",
    "                                   physical_boxsize=64, rmin=1e-4, rmax=32)\n",
    "\n",
    "sarabande.calc_zeta(_3PCF, normalize=True)"
   ]
  },
  {
   "cell_type": "code",
   "execution_count": 469,
   "id": "cf893a38-176f-4e0a-9c49-a03a1960b478",
   "metadata": {},
   "outputs": [],
   "source": [
    "nbins = len(r_av)\n",
    "l = 2"
   ]
  },
  {
   "cell_type": "code",
   "execution_count": 470,
   "id": "5fbed11a-18b8-4d10-8fbf-3471e7173c4f",
   "metadata": {},
   "outputs": [],
   "source": [
    "#ENCORE\n",
    "zeta_1d,bin_indexes,b_i = [], [], 0\n",
    "\n",
    "for b1 in range(0,nbins):\n",
    "    for b2 in range(b1):\n",
    "        value = zeta_encore[l,b1,b2].real \n",
    "        value *= (r_av[b1] * r_av[b2])\n",
    "        zeta_1d.append(value)\n",
    "        bin_indexes.append(b_i)\n",
    "        b_i += 1\n",
    "        \n",
    "zeta_1d_encore, bin_indexes_encore = zeta_1d, bin_indexes\n"
   ]
  },
  {
   "cell_type": "code",
   "execution_count": 471,
   "id": "d7f50c2a-a2ef-40c9-b243-0c576fe55e39",
   "metadata": {},
   "outputs": [],
   "source": [
    "#SARABANDE\n",
    "zeta_l_1d, bin_indexes, b_i = [], [], 0\n",
    "for b1 in range(0,nbins):\n",
    "    for b2 in range(b1):\n",
    "        value = _3PCF.zeta[l,b1,b2].real\n",
    "        value *= r_av[b1] * r_av[b2]\n",
    "        zeta_l_1d.append(value)\n",
    "        bin_indexes.append(b_i)\n",
    "        b_i += 1\n",
    "        \n",
    "zeta_1d_sar, bin_indexes_sar = np.array(zeta_l_1d), np.array(bin_indexes)"
   ]
  },
  {
   "cell_type": "code",
   "execution_count": 472,
   "id": "046f0e27-8237-4de3-ad56-ed93be37e2f0",
   "metadata": {
    "tags": []
   },
   "outputs": [],
   "source": [
    "#DIRECT COUNTING\n",
    "ell = 2 * str(l)\n",
    "zeta_l_1d, bin_indexes, b_i = [], [], 0\n",
    "for b1 in range(0,nbins):\n",
    "    for b2 in range(b1):\n",
    "        value = zeta_direct[ell][b1,b2].real\n",
    "        value *= r_av[b1] * r_av[b2]\n",
    "        zeta_l_1d.append(value)\n",
    "        bin_indexes.append(b_i)\n",
    "        b_i += 1\n",
    "        \n",
    "zeta_1d_DC, bin_indexes_DC = np.array(zeta_l_1d), np.array(bin_indexes)"
   ]
  },
  {
   "cell_type": "code",
   "execution_count": 473,
   "id": "355a35ec-4bc4-4967-a845-51f67c4908b7",
   "metadata": {
    "tags": []
   },
   "outputs": [
    {
     "data": {
      "image/png": "[encoded data removed]",
      "text/plain": [
       "<Figure size 1000x600 with 2 Axes>"
      ]
     },
     "metadata": {},
     "output_type": "display_data"
    }
   ],
   "source": [
    "# definitions for the axes \n",
    "left, width = 0.1, 0.65 \n",
    "bottom, height = 0.1, 0.65 \n",
    "spacing = 0.0\n",
    "\n",
    "rect_center = [left, bottom, width, height]\n",
    "rect_bottomx = [left, -bottom + spacing, width, 0.2] \n",
    "\n",
    "# start with a rectangular Figure\n",
    "fig = plt.figure(figsize=(10, 6)) \n",
    "ax_center = plt.axes(rect_center) \n",
    "ax_center.tick_params(direction='in', right=True) \n",
    "ax_bottomx = plt.axes(rect_bottomx)\n",
    "ax_bottomx.tick_params(direction='in') \n",
    "\n",
    "\n",
    "# the center plot:\n",
    "ax_center.set_xticklabels([])\n",
    "ax_center.set_ylim(1.5 * np.min(zeta_1d_sar), 2 * np.max(zeta_1d_sar))\n",
    "ax_center.set_title(f\"Full 3PCF Comparison: $\\\\ell = {l}$\")\n",
    "ax_center.set_ylabel(\"$\\\\hat{\\zeta}^{\\mathrm{ \\; b_1 b_2}}_{\\ell} \\\\times r_1 r_2$\")\n",
    "ax_center.plot(bin_indexes_sar, zeta_1d_sar, color=\"red\", linestyle=\"-\", linewidth=3,label=\"Sarabande\")\n",
    "ax_center.plot(bin_indexes_encore, zeta_1d_encore, color=\"green\", linestyle=\"-.\", linewidth=3,label=\"Encore\")\n",
    "ax_center.plot(bin_indexes_DC, zeta_1d_DC, color=\"blue\", linestyle=\":\", linewidth=3, label=\"Direct Counting\")\n",
    "ax_center.set_xlim(0,len(bin_indexes)-1)\n",
    "ax_center.grid()\n",
    "ax_center.legend(shadow=True, edgecolor=\"black\", fontsize=18)\n",
    "\n",
    "\n",
    "#redidual plot\n",
    "ax_bottomx.plot(bin_indexes_encore, (zeta_1d_sar - zeta_1d_encore) * 1e8, color=\"red\",linestyle=\"--\", linewidth=3)\n",
    "# ax_bottomx.set_ylim(-1.5,1.5)\n",
    "ax_bottomx.set_xlim(0,len(bin_indexes)-1)\n",
    "ax_bottomx.set_ylabel(\"Residuals \\n $\\\\times 10^{8}$\")\n",
    "ax_bottomx.set_xlabel(\"Bin Index\")\n",
    "ax_bottomx.grid()\n",
    "\n",
    "# fig.subplots_adjust(bottom=-10) # or whatever\n",
    "fig.subplots_adjust(bottom=-100)\n",
    "\n",
    "# fig.savefig(\"model_comparison_3.pdf\",bbox_inches=\"tight\", dpi=300)\n",
    "# plt.constrain_layout()\n",
    "\n",
    "plt.show()"
   ]
  },
  {
   "cell_type": "code",
   "execution_count": null,
   "id": "eb7c3cff-ffea-48b8-8fb7-7d8b31d5ef67",
   "metadata": {},
   "outputs": [],
   "source": []
  }
 ],
 "metadata": {
  "kernelspec": {
   "display_name": "Python 3 (ipykernel)",
   "language": "python",
   "name": "python3"
  },
  "language_info": {
   "codemirror_mode": {
    "name": "ipython",
    "version": 3
   },
   "file_extension": ".py",
   "mimetype": "text/x-python",
   "name": "python",
   "nbconvert_exporter": "python",
   "pygments_lexer": "ipython3",
   "version": "3.7.3"
  }
 },
 "nbformat": 4,
 "nbformat_minor": 5
}
