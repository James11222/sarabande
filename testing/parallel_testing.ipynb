{
 "cells": [
  {
   "cell_type": "code",
   "execution_count": 1,
   "metadata": {},
   "outputs": [],
   "source": [
    "import sarabande\n",
    "import numpy as np\n",
    "import astropy.io.fits as pyf"
   ]
  },
  {
   "cell_type": "code",
   "execution_count": 2,
   "metadata": {},
   "outputs": [],
   "source": [
    "hdulist = pyf.open('data/dens_t800.fits.gz')\n",
    "data = hdulist[0].data.astype(np.float64)\n",
    "data -= np.mean(data)\n",
    "\n",
    "save_dir = 'output/'"
   ]
  },
  {
   "cell_type": "code",
   "execution_count": 8,
   "metadata": {},
   "outputs": [],
   "source": [
    "PCF_i = sarabande.measure(nPCF=4, projected=False, density_field_data = data, save_dir=save_dir, save_name='par_example', nbins=4, ell_max=2)"
   ]
  },
  {
   "cell_type": "code",
   "execution_count": 9,
   "metadata": {},
   "outputs": [
    {
     "name": "stdout",
     "output_type": "stream",
     "text": [
      "Preparing the data:\n",
      "Creating XYZ Grids for radial bin and ylm creation ... \n",
      "\n",
      "Creating radial bins ... \n",
      "\n",
      "taking the fourier transform of data ... \n",
      "\n",
      "calculating YLM Coefficients ... \n",
      "\n",
      "binning spherical harmonics ... \n",
      "\n",
      "ell, m =  0 0\n",
      "bin i =  0\n",
      "bin i =  1\n",
      "bin i =  2\n",
      "bin i =  3\n",
      "ell, m =  1 0\n",
      "bin i =  0\n",
      "bin i =  1\n",
      "bin i =  2\n",
      "bin i =  3\n",
      "ell, m =  1 1\n",
      "bin i =  0\n",
      "bin i =  1\n",
      "bin i =  2\n",
      "bin i =  3\n",
      "ell, m =  2 0\n",
      "bin i =  0\n",
      "bin i =  1\n",
      "bin i =  2\n",
      "bin i =  3\n",
      "ell, m =  2 1\n",
      "bin i =  0\n",
      "bin i =  1\n",
      "bin i =  2\n",
      "bin i =  3\n",
      "ell, m =  2 2\n",
      "bin i =  0\n",
      "bin i =  1\n",
      "bin i =  2\n",
      "bin i =  3\n",
      "calculating a_lm coefficients ... \n",
      "\n",
      "l, m, bin = 0 0 0\n",
      "l, m, bin = 0 0 1\n",
      "l, m, bin = 0 0 2\n",
      "l, m, bin = 0 0 3\n",
      "l, m, bin = 1 0 0\n",
      "l, m, bin = 1 0 1\n",
      "l, m, bin = 1 0 2\n",
      "l, m, bin = 1 0 3\n",
      "l, m, bin = 1 1 0\n",
      "l, m, bin = 1 1 1\n",
      "l, m, bin = 1 1 2\n",
      "l, m, bin = 1 1 3\n",
      "l, m, bin = 2 0 0\n",
      "l, m, bin = 2 0 1\n",
      "l, m, bin = 2 0 2\n",
      "l, m, bin = 2 0 3\n",
      "l, m, bin = 2 1 0\n",
      "l, m, bin = 2 1 1\n",
      "l, m, bin = 2 1 2\n",
      "l, m, bin = 2 1 3\n",
      "l, m, bin = 2 2 0\n",
      "l, m, bin = 2 2 1\n",
      "l, m, bin = 2 2 2\n",
      "l, m, bin = 2 2 3\n",
      "Executing 4PCF Calculation ...\n",
      "Finished Mapping Calculation in 199.0 seconds\n",
      "Finished Calculating 4PCF in 199.0633 seconds\n"
     ]
    }
   ],
   "source": [
    "sarabande.calc_zeta_parallel(PCF_i)"
   ]
  },
  {
   "cell_type": "code",
   "execution_count": 11,
   "metadata": {},
   "outputs": [
    {
     "name": "stdout",
     "output_type": "stream",
     "text": [
      "Preparing the data:\n",
      "Creating XYZ Grids for radial bin and ylm creation ... \n",
      "\n",
      "Creating radial bins ... \n",
      "\n",
      "taking the fourier transform of data ... \n",
      "\n",
      "calculating YLM Coefficients ... \n",
      "\n",
      "binning spherical harmonics ... \n",
      "\n",
      "ell, m =  0 0\n",
      "bin i =  0\n",
      "bin i =  1\n",
      "bin i =  2\n",
      "bin i =  3\n",
      "ell, m =  1 0\n",
      "bin i =  0\n",
      "bin i =  1\n",
      "bin i =  2\n",
      "bin i =  3\n",
      "ell, m =  1 1\n",
      "bin i =  0\n",
      "bin i =  1\n",
      "bin i =  2\n",
      "bin i =  3\n",
      "ell, m =  2 0\n",
      "bin i =  0\n",
      "bin i =  1\n",
      "bin i =  2\n",
      "bin i =  3\n",
      "ell, m =  2 1\n",
      "bin i =  0\n",
      "bin i =  1\n",
      "bin i =  2\n",
      "bin i =  3\n",
      "ell, m =  2 2\n",
      "bin i =  0\n",
      "bin i =  1\n",
      "bin i =  2\n",
      "bin i =  3\n",
      "calculating a_lm coefficients ... \n",
      "\n",
      "l, m, bin = 0 0 0\n",
      "l, m, bin = 0 0 1\n",
      "l, m, bin = 0 0 2\n",
      "l, m, bin = 0 0 3\n",
      "l, m, bin = 1 0 0\n",
      "l, m, bin = 1 0 1\n",
      "l, m, bin = 1 0 2\n",
      "l, m, bin = 1 0 3\n",
      "l, m, bin = 1 1 0\n",
      "l, m, bin = 1 1 1\n",
      "l, m, bin = 1 1 2\n",
      "l, m, bin = 1 1 3\n",
      "l, m, bin = 2 0 0\n",
      "l, m, bin = 2 0 1\n",
      "l, m, bin = 2 0 2\n",
      "l, m, bin = 2 0 3\n",
      "l, m, bin = 2 1 0\n",
      "l, m, bin = 2 1 1\n",
      "l, m, bin = 2 1 2\n",
      "l, m, bin = 2 1 3\n",
      "l, m, bin = 2 2 0\n",
      "l, m, bin = 2 2 1\n",
      "l, m, bin = 2 2 2\n",
      "l, m, bin = 2 2 3\n",
      "Executing 4PCF Calculation ...\n",
      "Finished Calculating 4PCF in 436.5451 seconds\n"
     ]
    }
   ],
   "source": [
    "\n",
    "PCF_simple = sarabande.measure(nPCF=4, projected=False, density_field_data = data, save_dir=save_dir, save_name='par_example', nbins=4, ell_max=2)\n",
    "sarabande.calc_zeta(PCF_simple)"
   ]
  },
  {
   "cell_type": "code",
   "execution_count": 13,
   "metadata": {},
   "outputs": [
    {
     "data": {
      "text/plain": [
       "True"
      ]
     },
     "execution_count": 13,
     "metadata": {},
     "output_type": "execute_result"
    }
   ],
   "source": [
    "np.all(PCF_simple.zeta == PCF_i.zeta) # parallel method agrees!"
   ]
  },
  {
   "cell_type": "code",
   "execution_count": null,
   "metadata": {},
   "outputs": [],
   "source": []
  }
 ],
 "metadata": {
  "interpreter": {
   "hash": "410aefb56d1a87f8822896266a41aa5b09babba322aff8c342ddc3a005651f6d"
  },
  "kernelspec": {
   "display_name": "Python 3 (ipykernel)",
   "language": "python",
   "name": "python3"
  },
  "language_info": {
   "codemirror_mode": {
    "name": "ipython",
    "version": 3
   },
   "file_extension": ".py",
   "mimetype": "text/x-python",
   "name": "python",
   "nbconvert_exporter": "python",
   "pygments_lexer": "ipython3",
   "version": "3.7.3"
  }
 },
 "nbformat": 4,
 "nbformat_minor": 4
}
